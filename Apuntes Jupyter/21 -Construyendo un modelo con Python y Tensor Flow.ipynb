{
 "cells": [
  {
   "cell_type": "markdown",
   "metadata": {},
   "source": [
    "# Intro To Machine Learning"
   ]
  },
  {
   "cell_type": "markdown",
   "metadata": {},
   "source": [
    "![robotbrain](robotbrain.jpg)"
   ]
  },
  {
   "cell_type": "markdown",
   "metadata": {},
   "source": [
    "## Construyendo un modelo con Python y Tensor Flow "
   ]
  },
  {
   "cell_type": "markdown",
   "metadata": {},
   "source": [
    "### Antes de continuar en el proximo notebook hago el mismo ejercicio un poco mas entendible"
   ]
  },
  {
   "cell_type": "code",
   "execution_count": 1,
   "metadata": {
    "collapsed": false
   },
   "outputs": [
    {
     "name": "stdout",
     "output_type": "stream",
     "text": [
      "Collecting tensorflow\n",
      "  Downloading tensorflow-1.3.0-cp36-cp36m-win_amd64.whl (25.5MB)\n",
      "Requirement already satisfied: wheel>=0.26 in c:\\users\\beatsaudio\\anaconda3\\lib\\site-packages (from tensorflow)\n",
      "Collecting tensorflow-tensorboard<0.2.0,>=0.1.0 (from tensorflow)\n",
      "  Downloading tensorflow_tensorboard-0.1.8-py3-none-any.whl (1.6MB)\n",
      "Requirement already satisfied: six>=1.10.0 in c:\\users\\beatsaudio\\anaconda3\\lib\\site-packages (from tensorflow)\n",
      "Requirement already satisfied: numpy>=1.11.0 in c:\\users\\beatsaudio\\anaconda3\\lib\\site-packages (from tensorflow)\n",
      "Collecting protobuf>=3.3.0 (from tensorflow)\n",
      "  Downloading protobuf-3.4.0-py2.py3-none-any.whl (375kB)\n",
      "Collecting markdown>=2.6.8 (from tensorflow-tensorboard<0.2.0,>=0.1.0->tensorflow)\n",
      "  Downloading Markdown-2.6.9.tar.gz (271kB)\n",
      "Collecting bleach==1.5.0 (from tensorflow-tensorboard<0.2.0,>=0.1.0->tensorflow)\n",
      "  Downloading bleach-1.5.0-py2.py3-none-any.whl\n",
      "Requirement already satisfied: werkzeug>=0.11.10 in c:\\users\\beatsaudio\\anaconda3\\lib\\site-packages (from tensorflow-tensorboard<0.2.0,>=0.1.0->tensorflow)\n",
      "Collecting html5lib==0.9999999 (from tensorflow-tensorboard<0.2.0,>=0.1.0->tensorflow)\n",
      "  Downloading html5lib-0.9999999.tar.gz (889kB)\n",
      "Requirement already satisfied: setuptools in c:\\users\\beatsaudio\\anaconda3\\lib\\site-packages\\setuptools-27.2.0-py3.6.egg (from protobuf>=3.3.0->tensorflow)\n",
      "Building wheels for collected packages: markdown, html5lib\n",
      "  Running setup.py bdist_wheel for markdown: started\n",
      "  Running setup.py bdist_wheel for markdown: finished with status 'done'\n",
      "  Stored in directory: C:\\Users\\Beatsaudio\\AppData\\Local\\pip\\Cache\\wheels\\bf\\46\\10\\c93e17ae86ae3b3a919c7b39dad3b5ccf09aeb066419e5c1e5\n",
      "  Running setup.py bdist_wheel for html5lib: started\n",
      "  Running setup.py bdist_wheel for html5lib: finished with status 'done'\n",
      "  Stored in directory: C:\\Users\\Beatsaudio\\AppData\\Local\\pip\\Cache\\wheels\\6f\\85\\6c\\56b8e1292c6214c4eb73b9dda50f53e8e977bf65989373c962\n",
      "Successfully built markdown html5lib\n",
      "Installing collected packages: markdown, html5lib, bleach, protobuf, tensorflow-tensorboard, tensorflow\n",
      "Successfully installed bleach-1.5.0 html5lib-0.9999999 markdown-2.6.9 protobuf-3.4.0 tensorflow-1.3.0 tensorflow-tensorboard-0.1.8\n"
     ]
    }
   ],
   "source": [
    "#Instalar TensorFlow\n",
    "!pip install tensorflow"
   ]
  },
  {
   "cell_type": "code",
   "execution_count": 2,
   "metadata": {
    "collapsed": true
   },
   "outputs": [],
   "source": [
    "#importar el dataset MNIST desde Tensor Flow\n",
    "from tensorflow.examples.tutorials.mnist import input_data"
   ]
  },
  {
   "cell_type": "code",
   "execution_count": 3,
   "metadata": {
    "collapsed": false
   },
   "outputs": [
    {
     "name": "stdout",
     "output_type": "stream",
     "text": [
      "Successfully downloaded train-images-idx3-ubyte.gz 9912422 bytes.\n",
      "Extracting MNIST_data/train-images-idx3-ubyte.gz\n",
      "Successfully downloaded train-labels-idx1-ubyte.gz 28881 bytes.\n",
      "Extracting MNIST_data/train-labels-idx1-ubyte.gz\n",
      "Successfully downloaded t10k-images-idx3-ubyte.gz 1648877 bytes.\n",
      "Extracting MNIST_data/t10k-images-idx3-ubyte.gz\n",
      "Successfully downloaded t10k-labels-idx1-ubyte.gz 4542 bytes.\n",
      "Extracting MNIST_data/t10k-labels-idx1-ubyte.gz\n"
     ]
    }
   ],
   "source": [
    "#Cargar los datos en variable, \n",
    "#cual si fuese un dataframe de pandas(Big Data y Data Science)\n",
    "mnist = input_data.read_data_sets(\"MNIST_data/\", one_hot=True)"
   ]
  },
  {
   "cell_type": "code",
   "execution_count": null,
   "metadata": {
    "collapsed": true
   },
   "outputs": [],
   "source": [
    "#importar TensorFlow y definirlo como tf\n",
    "import tensorflow as tf\n",
    "tf.__version__"
   ]
  },
  {
   "cell_type": "code",
   "execution_count": null,
   "metadata": {
    "collapsed": true
   },
   "outputs": [],
   "source": [
    "#Un placeholder(marcador de posición) \n",
    "#(Tamaño de las imagenes)28px * 28px = 784\n",
    "#Creo una matriz vacia de 784 posiciones y las relleno con 0 o None\n",
    "#Porque voy a extraer el valor de los pixels y el valor de los pixeles\n",
    "#lo tengo como color\n",
    "x = tf.placeholder(tf.float32, [None, 784])"
   ]
  },
  {
   "cell_type": "code",
   "execution_count": null,
   "metadata": {
    "collapsed": true
   },
   "outputs": [],
   "source": [
    "#Las imagenes son en Blanco y Negro\n",
    "#Inicializar la matrix de 0\n",
    "#El comando zeros crea la matriz en donde le digo que necesito 784 * 10\n",
    "W = tf.Variable(tf.zeros([784, 10]))\n",
    "#Otra matriz de zeros pero de 10 posiciones\n",
    "#Para poder hacer la multiplicacion de matriz contra vector\n",
    "b = tf.Variable(tf.zeros([10]))"
   ]
  },
  {
   "cell_type": "markdown",
   "metadata": {},
   "source": [
    "### Inicializar el modelo"
   ]
  },
  {
   "cell_type": "markdown",
   "metadata": {},
   "source": [
    "![tensorreduce](tensorreduce.png)"
   ]
  },
  {
   "cell_type": "code",
   "execution_count": null,
   "metadata": {
    "collapsed": true
   },
   "outputs": [],
   "source": [
    "#Indicar el Algoritmo \n",
    "#(Softmax regression o Logistic Regresion Multinomial o cross entropy)\n",
    "#Le definimos que algoritmo vamos a utilizar con el metodo nn\n",
    "#y seguido el algoritmo(SoftMax)\n",
    "#En donde hare una multiplicacion \n",
    "#de los valores de x por W y lo sumo por b\n",
    "y = tf.nn.softmax(tf.matmul(x, W) + b)\n",
    "#Un nuevo vector con 10 posiciones\n",
    "y_ = tf.placeholder( tf.float32, [None, 10] )\n",
    "#Definir Para poder obtener el resultado del Softmax\n",
    "#Con reduce_mean saca la media de los elementos a lo largo de una dimension\n",
    "#menos (reduce_sum saca la suma de los elementos a lo largo de una de las dimensiones)\n",
    "#Que internamente se esta multiplicando por el logaritmo de y\n",
    "#por ultimo se indexa \n",
    "cross_entropy = tf.reduce_mean( -tf.reduce_sum(y_ * tf.log(y), reduction_indices=[1]))"
   ]
  },
  {
   "cell_type": "markdown",
   "metadata": {},
   "source": [
    "Nuestro dataset posee 784 columnas con los valores de cada pixel y tiene una columna que es el label o la etiqueta que nos dice que representa ese arreglo de numeros"
   ]
  },
  {
   "cell_type": "markdown",
   "metadata": {},
   "source": [
    "### Entrenar nuestro algoritmo"
   ]
  },
  {
   "cell_type": "code",
   "execution_count": null,
   "metadata": {
    "collapsed": true
   },
   "outputs": [],
   "source": [
    "#GradientDescent es un optimizador de datos \n",
    "#para poder aumentar la presicion de nuestros datos\n",
    "#El valor 0.5 ayudara a que todos los valores de nuestro dataset\n",
    "#sean consistentes\n",
    "#minimize minimiza la perdida de predicion al actulizar los datos\n",
    "train_step = tf.train.GradientDescentOptimizer(0.5).minimize( cross_entropy  )"
   ]
  },
  {
   "cell_type": "markdown",
   "metadata": {},
   "source": [
    "En teoría lo que hace es:\n",
    "\n",
    "1. Dividir la imagen por pixeles\n",
    "2. Cada imagen se convierte en una matriz\n",
    "3. Se entrena al algoritmo con todas la matrices de todas las imagenes proporcionadas\n",
    "4. Esto no se hace precisamente en este ejercicio pero te lo digo para que lo puedas visualizar. Lo que hace es que cuando le mandas una imagen nueva para predecir, hace los pasos 1 y 2 y luego compara a cuales de las otras imagenes que ya revisó se parece más. La que se parezca más la dará como resultado.\n",
    "5. En la parte en la que te da un porcentaje de precisión lo que hizo fue calcular cuántas veces le “atinó” a la respuesta correcta.\n"
   ]
  },
  {
   "cell_type": "code",
   "execution_count": null,
   "metadata": {
    "collapsed": true
   },
   "outputs": [],
   "source": []
  }
 ],
 "metadata": {
  "kernelspec": {
   "display_name": "Python 3",
   "language": "python",
   "name": "python3"
  },
  "language_info": {
   "codemirror_mode": {
    "name": "ipython",
    "version": 3
   },
   "file_extension": ".py",
   "mimetype": "text/x-python",
   "name": "python",
   "nbconvert_exporter": "python",
   "pygments_lexer": "ipython3",
   "version": "3.6.0"
  }
 },
 "nbformat": 4,
 "nbformat_minor": 2
}
