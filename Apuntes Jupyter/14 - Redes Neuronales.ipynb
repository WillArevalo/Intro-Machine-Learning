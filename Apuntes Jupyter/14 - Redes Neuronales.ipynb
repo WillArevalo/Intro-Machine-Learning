{
 "cells": [
  {
   "cell_type": "markdown",
   "metadata": {},
   "source": [
    "# Intro To Machine Learning"
   ]
  },
  {
   "cell_type": "markdown",
   "metadata": {},
   "source": [
    "![neuralNetwork](neuralNetwork.jpg)"
   ]
  },
  {
   "cell_type": "markdown",
   "metadata": {},
   "source": [
    "## Red Neuronal"
   ]
  },
  {
   "cell_type": "markdown",
   "metadata": {},
   "source": [
    "#### Historia de las Redes Neuronales:\n",
    "\n",
    "El concepto de Redes Neuronales llega gracias a un científico que experimentaba con tejido animal. En uno de sus experimentos con un cerebro, se dio cuenta que si desconectaba la parte que estaba conectada al ojo, es decir, la parte que tenía la capacidad de recibir y procesar imágenes, y la conectaba al oído, esta parte desarrollaba la capacidad de escuchar. Con esto llegó a la conclusión de que nuestro cerebro tiene un algoritmo maestro de aprendizaje. Todo depende de la entrada de información que se le provea.\n",
    "\n",
    "Como resultado de este descubrimiento decidió replicarlo en un algoritmo matemático.\n",
    "\n",
    "Las Redes Neuronales existen hace más de 60 años. En los años 80´s eran muy utilizadas, pero en los años 90´s decayeron considerablemente debido a que el costo computacional para entrenar una red neuronal era muy elevado.\n",
    "\n",
    "Hoy en día ha tomado fuerza nuevamente debido a los grandes avances tecnológicos y al hecho de que existe un alto grado de precisión que tienen los resultados de las predicciones que se hacen con estas Redes Neuronales."
   ]
  },
  {
   "cell_type": "markdown",
   "metadata": {},
   "source": [
    "#### Notas importantes:\n",
    "\n",
    "* Las Redes Neuronales son el algoritmo más utilizado hoy en día.\n",
    "* Las neuronas, como lo vimos en el tema de Regresión Lineal, disparan solamente valores de 0 y 1, es decir, ejecutan o no ejecutan\n",
    "* En las Redes Neuronales artificiales todos los resultados caen entre 0 y 1.\n",
    "* Una Red Neuronal se mide por capas. En el esquema que describe a las * Redes Neuronales, tenemos por defecto la capa de entrada y de salida, por lo que depende del número de capas de en medio la medición de éstas.\n",
    "* Las compuertas lógicas realizan operaciones basadas en las condiciones lógicas por las que están diseñadas.\n",
    "* Las compuertas lógicas pueden sumar, restar, multiplicar, negar o afirmar un valor.\n",
    "* Las operaciones sigmoidales solo dan resultado o 0 o 1.\n",
    "* Las redes neuronales se miden por la cantidad de capas ocultas que poseen \n"
   ]
  },
  {
   "cell_type": "markdown",
   "metadata": {},
   "source": [
    "### Red Neuronal de 2 capas(Por que tiene 2 capas ocultas)\n",
    "![neuralnet2](neuralnet2.jpeg)"
   ]
  },
  {
   "cell_type": "markdown",
   "metadata": {},
   "source": [
    "## Las redes Neuronales trabajan con compuertas logicas\n",
    "https://es.wikipedia.org/wiki/Puerta_l%C3%B3gica"
   ]
  },
  {
   "cell_type": "markdown",
   "metadata": {},
   "source": [
    "### Compuerta Lógicas \n",
    "![compuertas](compuertas.gif)"
   ]
  },
  {
   "cell_type": "markdown",
   "metadata": {},
   "source": [
    "#### Las operaciones sigmoidales nos dan resultados de 0 o de 1 unicamente\n",
    "![sigmoide](sigmoide.svg)\n",
    "![Funcion_sigmoide](Funcion_sigmoide.svg)"
   ]
  },
  {
   "cell_type": "markdown",
   "metadata": {},
   "source": [
    "# Ejemplo de como trabaja una red neuronal de una sola capa"
   ]
  },
  {
   "cell_type": "markdown",
   "metadata": {},
   "source": [
    "*Pesos*\n",
    "\n",
    "$Θ^{1}$ $=$ [$-30$ $20$ $20$]\n",
    "\n",
    "*El primer peso(-30) es un peso que determinamos como vias*\n",
    "\n",
    "$h_{Θ}(x)$ $=$ $g$($-30$+$20x_{1}$+$20x_{2}$)\n",
    "\n",
    "**Entonces:**\n",
    "\n",
    "<sub>Tenemos -30 + 20$*$0 + 20$*$0 = -30 asi que es igual a 0 ya que el resultado que queremos es que no nos de negativo.<sub> \n",
    "\n",
    "$x_{1} = 0   $ $and$ $   x_{2} = 0   $ $then$ $   g(-30) ≈ 0 $\n",
    "\n",
    "<sub>Tenemos -30 + 20$*$0 + 20$*$1 = -10 asi que es igual a 0 ya que el resultado que queremos es que no nos de negativo.<sub> \n",
    "\n",
    "$x_{1} = 0   $ $and$ $   x_{2} = 1   $ $then$ $   g(-10) ≈ 0 $\n",
    "\n",
    "<sub>Tenemos -30 + 20$*$1 + 20$*$0 = -10 asi que es igual a 0 ya que el resultado que queremos es que no nos de negativo.<sub>\n",
    "\n",
    "$x_{1} = 1   $ $and$ $   x_{2} = 0   $ $then$ $   g(-10) ≈ 0 $\n",
    "\n",
    "<sub>Tenemos -30 + 20$*$1 + 20$*$1 = -10 asi que es igual a 1 ya que el resultado que queremos obtener.<sub>\n",
    "\n",
    "$x_{1} = 1   $ $and$ $   x_{2} = 1   $ $then$ $   g(10) ≈ 1 $"
   ]
  },
  {
   "cell_type": "markdown",
   "metadata": {},
   "source": [
    "__Por lo tanto la salida para el AND sera__\n",
    "\n",
    "$Output =[0,0,0,1]$\n",
    "\n",
    "__Si evaluamos el OR dara__\n",
    "\n",
    "$Output=[0,1,1,1]$"
   ]
  },
  {
   "cell_type": "markdown",
   "metadata": {},
   "source": [
    "## Diferentes tipos de Redes Neuronales"
   ]
  },
  {
   "cell_type": "markdown",
   "metadata": {},
   "source": [
    "![chartneuralnetworks](chartneuralnetworks.png)"
   ]
  },
  {
   "cell_type": "code",
   "execution_count": null,
   "metadata": {
    "collapsed": true
   },
   "outputs": [],
   "source": []
  }
 ],
 "metadata": {
  "kernelspec": {
   "display_name": "Python 3",
   "language": "python",
   "name": "python3"
  },
  "language_info": {
   "codemirror_mode": {
    "name": "ipython",
    "version": 3
   },
   "file_extension": ".py",
   "mimetype": "text/x-python",
   "name": "python",
   "nbconvert_exporter": "python",
   "pygments_lexer": "ipython3",
   "version": "3.6.0"
  }
 },
 "nbformat": 4,
 "nbformat_minor": 2
}
