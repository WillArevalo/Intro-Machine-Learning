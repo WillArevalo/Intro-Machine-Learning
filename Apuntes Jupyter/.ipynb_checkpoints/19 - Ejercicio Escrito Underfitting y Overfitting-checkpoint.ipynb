{
 "cells": [
  {
   "cell_type": "markdown",
   "metadata": {},
   "source": [
    "# Intro To Machine Learning"
   ]
  },
  {
   "cell_type": "markdown",
   "metadata": {},
   "source": [
    "![braindeeplearn](braindeeplearn.jpg)"
   ]
  },
  {
   "cell_type": "markdown",
   "metadata": {},
   "source": [
    "## Ejercicio Escrito Underfitting y Overfitting"
   ]
  },
  {
   "cell_type": "markdown",
   "metadata": {},
   "source": [
    "De los siguientes enunciados marca cuál caso es subajuste y cuál es sobreajuste:\n",
    "\n",
    "- Un dataset con pocos features (subajuste).\n",
    "- Un dataset con pocos ejemplos (subajuste).\n",
    "- Un modelo que da un porcentaje de precisión muy alto para casos de training pero muy bajo para casos de testing (sobreajuste).\n",
    "- Un modelo que me da un porcentaje de precisión muy bajo tanto en training como en testing (subajuste).\n",
    "- Un dataset con muchos features (sobreajuste).\n"
   ]
  },
  {
   "cell_type": "code",
   "execution_count": null,
   "metadata": {
    "collapsed": true
   },
   "outputs": [],
   "source": []
  }
 ],
 "metadata": {
  "kernelspec": {
   "display_name": "Python 3",
   "language": "python",
   "name": "python3"
  },
  "language_info": {
   "codemirror_mode": {
    "name": "ipython",
    "version": 3
   },
   "file_extension": ".py",
   "mimetype": "text/x-python",
   "name": "python",
   "nbconvert_exporter": "python",
   "pygments_lexer": "ipython3",
   "version": "3.6.0"
  }
 },
 "nbformat": 4,
 "nbformat_minor": 2
}
