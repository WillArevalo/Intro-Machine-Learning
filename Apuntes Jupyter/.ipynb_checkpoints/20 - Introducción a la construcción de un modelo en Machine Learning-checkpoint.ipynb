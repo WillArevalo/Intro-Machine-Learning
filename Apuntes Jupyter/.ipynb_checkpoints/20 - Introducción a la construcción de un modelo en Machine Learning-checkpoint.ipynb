{
 "cells": [
  {
   "cell_type": "markdown",
   "metadata": {},
   "source": [
    "# Intro To Machine Learning"
   ]
  },
  {
   "cell_type": "markdown",
   "metadata": {},
   "source": [
    "![robotbrain](robotbrain.jpg)"
   ]
  },
  {
   "cell_type": "markdown",
   "metadata": {},
   "source": [
    "## Introducción a la construcción de un modelo en Machine Learning"
   ]
  },
  {
   "cell_type": "markdown",
   "metadata": {},
   "source": [
    "**¿Por qué Python para Machine Learning?**\n",
    "\n",
    "**Python** tiene muchas librerías numéricas que te sirven para hacer todo el procesamiento de los datos con las operaciones que necesitamos. Además de que la sintaxis es buena, fácil y moderna.\n",
    "\n",
    "![python](python.png)\n",
    "\n",
    "**¿Por qué utilizar TensorFlow?**\n",
    "\n",
    "Es una herramienta *Open Source* para computación numérica y tiene una arquitectura muy flexible para llevar todo a producción usando un solo API.\n",
    "\n",
    "![tensorflow](tensorflow.jpg)\n",
    "\n",
    "\n",
    "\n",
    "**¿Qué dataset vamos a utilizar?**\n",
    "\n",
    "**MNIST** fue creado para que se hicieran pruebas de algoritmos como los que vamos a utilizar.\n",
    "Consiste en una serie de números escritos a mano para poder hacer un entrenamiento a los patrones y definir qué imagen es cada una. Cada imagen es de 28 x 28 px.\n",
    "\n",
    "![mnist-digits](mnist-digits.png)\n",
    "\n",
    "**Está dividido en 2 partes:**\n",
    "\n",
    "   * Set de entrenamiento de 60,000 imágenes de números.\n",
    "   * Set de prueba de 10,000 imágenes.\n"
   ]
  },
  {
   "cell_type": "code",
   "execution_count": null,
   "metadata": {
    "collapsed": true
   },
   "outputs": [],
   "source": []
  }
 ],
 "metadata": {
  "kernelspec": {
   "display_name": "Python 3",
   "language": "python",
   "name": "python3"
  },
  "language_info": {
   "codemirror_mode": {
    "name": "ipython",
    "version": 3
   },
   "file_extension": ".py",
   "mimetype": "text/x-python",
   "name": "python",
   "nbconvert_exporter": "python",
   "pygments_lexer": "ipython3",
   "version": "3.6.0"
  }
 },
 "nbformat": 4,
 "nbformat_minor": 2
}
