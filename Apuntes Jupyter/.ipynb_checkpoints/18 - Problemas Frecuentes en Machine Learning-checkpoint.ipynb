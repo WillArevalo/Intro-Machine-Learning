{
 "cells": [
  {
   "cell_type": "markdown",
   "metadata": {},
   "source": [
    "# Intro To Machine Learning"
   ]
  },
  {
   "cell_type": "markdown",
   "metadata": {},
   "source": [
    "![braindeeplearn](braindeeplearn.jpg)"
   ]
  },
  {
   "cell_type": "markdown",
   "metadata": {},
   "source": [
    "## Problemas frecuentes(Underfitting y Overfitting)\n",
    "![problemsMachineLearn](problemsMachineLearn.png)"
   ]
  },
  {
   "cell_type": "markdown",
   "metadata": {},
   "source": [
    "Estos son los problemas más comunes que pueden surgir en el proceso de entrenar algoritmos:\n",
    "\n",
    "- **Underfitting (Subajustar)** Se presenta cuando un modelo no puede capturar la tendencia de los datos. Es generalmente el resultado de un modelo extremadamente simple.\n",
    "- **Overfitting (Sobreajustar)** Se presenta cuando un algoritmo está perfectamente adaptado a los datos con los que lo entrenamos., pero si tratamos de predecir nuevos datos , lo más probable es que nos de error.\n",
    "\n",
    "Consejo para resolver el **Underfitting**:\n",
    "\n",
    "- Se recomienda tratar de agregar más features al dataset, es decir, agregar más columnas con condiciones al modelo.\n",
    "\n",
    "Consejos para resolver el **Overfitting**:\n",
    "\n",
    "- Se recomienda disminuir la cantidad de features al dataset, es decir, quitar columnas con condiciones al modelo.\n",
    "- También se recomienda agregar más ejemplos para el entrenamiento, es decir, agregar renglones con ejemplos de datos para el modelo.\n"
   ]
  },
  {
   "cell_type": "code",
   "execution_count": null,
   "metadata": {
    "collapsed": true
   },
   "outputs": [],
   "source": []
  }
 ],
 "metadata": {
  "kernelspec": {
   "display_name": "Python 3",
   "language": "python",
   "name": "python3"
  },
  "language_info": {
   "codemirror_mode": {
    "name": "ipython",
    "version": 3
   },
   "file_extension": ".py",
   "mimetype": "text/x-python",
   "name": "python",
   "nbconvert_exporter": "python",
   "pygments_lexer": "ipython3",
   "version": "3.6.0"
  }
 },
 "nbformat": 4,
 "nbformat_minor": 2
}
