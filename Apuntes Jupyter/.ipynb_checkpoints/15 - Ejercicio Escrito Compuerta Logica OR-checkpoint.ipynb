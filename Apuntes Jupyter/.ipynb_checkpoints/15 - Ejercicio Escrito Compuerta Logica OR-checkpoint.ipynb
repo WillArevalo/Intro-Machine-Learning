{
 "cells": [
  {
   "cell_type": "markdown",
   "metadata": {},
   "source": [
    "# Intro To Machine Learning"
   ]
  },
  {
   "cell_type": "markdown",
   "metadata": {},
   "source": [
    "![neuralNetwork](neuralNetwork.jpg)"
   ]
  },
  {
   "cell_type": "markdown",
   "metadata": {},
   "source": [
    "## Ejercicio Escrito Compuerta OR\n"
   ]
  },
  {
   "cell_type": "markdown",
   "metadata": {},
   "source": [
    "En esta ocasión lo que tienes que hacer es desarrollar la sentencia por cada renglón como vimos en el material anterior con el ejemplo.\n",
    "\n",
    "![or](or.png)\n",
    "\n",
    "Pesos = [-10 20 20]\n",
    "\n",
    "Ecuación = g(-10 + 20x1 + 20x2)"
   ]
  },
  {
   "cell_type": "markdown",
   "metadata": {},
   "source": [
    "![orescrito](orescrito.jpeg)"
   ]
  },
  {
   "cell_type": "markdown",
   "metadata": {},
   "source": [
    "## Con Python"
   ]
  },
  {
   "cell_type": "code",
   "execution_count": 31,
   "metadata": {
    "collapsed": false
   },
   "outputs": [
    {
     "name": "stdout",
     "output_type": "stream",
     "text": [
      "(-10+(20*False)+(20*False))\t= g(-10)\n",
      "(-10+(20*False)+(20*True))\t= g(10)\n",
      "(-10+(20*True)+(20*False))\t= g(10)\n",
      "(-10+(20*True)+(20*True))\t= g(30)\n",
      "Output = [0, 1, 1, 1]\n"
     ]
    }
   ],
   "source": [
    "pesos = [-10, 20, 20]\n",
    "output = []\n",
    "x1 = False\n",
    "x2 = False\n",
    "\n",
    "#Ecuacion = g(-10+20x1+20x2)\n",
    "for i in range(4):\n",
    "    e = pesos[0] + (pesos[1]*x1) + (pesos[2]*x2)\n",
    "    if e < 0:\n",
    "        output.append(0)\n",
    "    elif e > 0:\n",
    "        output.append(1)\n",
    "    print(\"\"\"({}+({}*{})+({}*{}))\\t= g({})\"\"\".format(pesos[0],pesos[1],x1,pesos[2],x2,e))\n",
    "    if i % 2 != 0:\n",
    "        x2 = False\n",
    "        if x1 == False:\n",
    "            x1 = True\n",
    "        else:\n",
    "            x1 = False\n",
    "    else:\n",
    "        x2 = True\n",
    "print(\"Output = {}\".format(output))"
   ]
  },
  {
   "cell_type": "code",
   "execution_count": null,
   "metadata": {
    "collapsed": true
   },
   "outputs": [],
   "source": []
  }
 ],
 "metadata": {
  "kernelspec": {
   "display_name": "Python 3",
   "language": "python",
   "name": "python3"
  },
  "language_info": {
   "codemirror_mode": {
    "name": "ipython",
    "version": 3
   },
   "file_extension": ".py",
   "mimetype": "text/x-python",
   "name": "python",
   "nbconvert_exporter": "python",
   "pygments_lexer": "ipython3",
   "version": "3.6.0"
  }
 },
 "nbformat": 4,
 "nbformat_minor": 2
}
