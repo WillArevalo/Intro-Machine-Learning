{
 "cells": [
  {
   "cell_type": "markdown",
   "metadata": {},
   "source": [
    "# Intro To Machine Learning"
   ]
  },
  {
   "cell_type": "markdown",
   "metadata": {},
   "source": [
    "![neuralNetwork](neuralNetwork.jpg)"
   ]
  },
  {
   "cell_type": "markdown",
   "metadata": {},
   "source": [
    "## Algoritmo K-Means(Este algoritmo puede ser supervisado o sin supervision)\n",
    "### En este caso asumiremos que no es supervisado"
   ]
  },
  {
   "cell_type": "markdown",
   "metadata": {},
   "source": [
    "Esta imagen da mas norte a cuales son supervisados y cuales no...\n",
    "![machineLearningEmoji](machineLearningEmoji.png)"
   ]
  },
  {
   "cell_type": "markdown",
   "metadata": {},
   "source": [
    "Éste es un algoritmo sin supervisión. Sirve para agrupar los datos en función de ciertos patrones.\n",
    "\n",
    "Vamos a explicar el procedimiento del agrupamiento de datos:\n",
    "\n",
    "Dado un conjunto inicial de k centros (donde k es cualquier número o cualquier variable) el algoritmo continúa iterando entre dos pasos.\n",
    "\n",
    "* **Paso de asignación.** \n",
    "     Asigna cada dato al grupo con la media más cercana, es decir, la partición de las observaciones generadas por los centros.\n",
    "* **Paso de actualización.** \n",
    "     Calcula nuevos centros como el centro de las observaciones en el grupo o partición.\n",
    "\n",
    "***El algoritmo se considera que converge cuando los centros ya no cambian.***\n"
   ]
  },
  {
   "cell_type": "markdown",
   "metadata": {},
   "source": [
    "![K-means](K-means.png)"
   ]
  },
  {
   "cell_type": "markdown",
   "metadata": {},
   "source": [
    "## Pasos de K-Means"
   ]
  },
  {
   "cell_type": "markdown",
   "metadata": {},
   "source": [
    "![K-meansstep1](K-meansstep1.png)\n",
    "![K-meansstep2](K-meansstep2.png)"
   ]
  },
  {
   "cell_type": "code",
   "execution_count": null,
   "metadata": {
    "collapsed": true
   },
   "outputs": [],
   "source": []
  }
 ],
 "metadata": {
  "kernelspec": {
   "display_name": "Python 3",
   "language": "python",
   "name": "python3"
  },
  "language_info": {
   "codemirror_mode": {
    "name": "ipython",
    "version": 3
   },
   "file_extension": ".py",
   "mimetype": "text/x-python",
   "name": "python",
   "nbconvert_exporter": "python",
   "pygments_lexer": "ipython3",
   "version": "3.6.0"
  }
 },
 "nbformat": 4,
 "nbformat_minor": 2
}
