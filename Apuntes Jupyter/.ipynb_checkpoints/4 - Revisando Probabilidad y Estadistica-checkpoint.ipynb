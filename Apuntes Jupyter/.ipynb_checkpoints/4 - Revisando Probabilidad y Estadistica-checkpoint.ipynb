{
 "cells": [
  {
   "cell_type": "markdown",
   "metadata": {},
   "source": [
    "# Intro To Machine Learning\n"
   ]
  },
  {
   "cell_type": "markdown",
   "metadata": {},
   "source": [
    "![regresion-lineal](regresion-lineal.gif )"
   ]
  },
  {
   "cell_type": "markdown",
   "metadata": {},
   "source": [
    "Machine Learning utiliza una serie de técnicas de Probabilidad y Estadística para predecir un valor basado en la información que le proveemos, es por esto que es muy importante que tengamos claro algunos conceptos de esta materia.\n"
   ]
  },
  {
   "cell_type": "markdown",
   "metadata": {},
   "source": [
    "### Conceptos importantes:\n",
    "* #### *Media o Promedio *\n",
    "\tLa suma de las medidas dividida entre el número total de datos.\n",
    "* #### *Moda *\n",
    "\tEs el valor con mayor frecuencia en una distribución de datos.\n",
    "* #### *Mediana *\n",
    "\tEs el valor que ocupa el lugar central de todos los datos cuando están agrupados de menor a mayor."
   ]
  },
  {
   "cell_type": "markdown",
   "metadata": {},
   "source": [
    "### *Source para obtener cada uno de ellos a traves de funciones *"
   ]
  },
  {
   "cell_type": "code",
   "execution_count": 4,
   "metadata": {
    "collapsed": true
   },
   "outputs": [],
   "source": [
    "#Obtener Media\n",
    "def promedio(datos):\n",
    "    sumatoria = sum(datos)\n",
    "    n = len(datos)\n",
    "    result = sumatoria / n\n",
    "    return result"
   ]
  },
  {
   "cell_type": "code",
   "execution_count": 8,
   "metadata": {
    "collapsed": false
   },
   "outputs": [
    {
     "data": {
      "text/plain": [
       "5.5"
      ]
     },
     "execution_count": 8,
     "metadata": {},
     "output_type": "execute_result"
    }
   ],
   "source": [
    "promedio([3, 4, 4, 5, 6, 6, 7, 9])"
   ]
  },
  {
   "cell_type": "code",
   "execution_count": 7,
   "metadata": {
    "collapsed": true
   },
   "outputs": [],
   "source": [
    "#Obtener moda\n",
    "def moda(datos):\n",
    "    #Valores a tomar en cuenta\n",
    "    resultados = []\n",
    "    repeticiones = 0\n",
    "    #Contar los valores y obtener los mas repetidos\n",
    "    for i in datos:\n",
    "        apariciones = datos.count(i)\n",
    "        if apariciones >= repeticiones:\n",
    "            if apariciones == repeticiones and resultados.count(i) == 0:\n",
    "                resultados.append(i)\n",
    "            elif resultados.count(i) == 0:\n",
    "                resultados = [i]\n",
    "            repeticiones = datos.count(i)\n",
    "    return resultados"
   ]
  },
  {
   "cell_type": "code",
   "execution_count": 9,
   "metadata": {
    "collapsed": false
   },
   "outputs": [
    {
     "data": {
      "text/plain": [
       "[4, 6]"
      ]
     },
     "execution_count": 9,
     "metadata": {},
     "output_type": "execute_result"
    }
   ],
   "source": [
    "moda([3, 4, 4, 5, 6, 6, 7, 9])"
   ]
  },
  {
   "cell_type": "code",
   "execution_count": 10,
   "metadata": {
    "collapsed": true
   },
   "outputs": [],
   "source": [
    "#Obtener mediana\n",
    "def mediana(datos):\n",
    "    mediana = 0\n",
    "    n = len(datos) \n",
    "    datos.sort() #Ordena la lista de menor a mayor\n",
    "    if n % 2 == 0: # si es par la formula es: Me = X(n / 2 ) + X((n / 2) + 1)\n",
    "        mediana = (datos[int((n / 2) + 1) - 1] + datos[int( n / 2)] - 1) / 2\n",
    "    else: # Si es impar la formula es: Me = X((n + 1) / 2)\n",
    "        mediana = datos[int((n + 1) / 2) - 1]\n",
    "    return mediana"
   ]
  },
  {
   "cell_type": "code",
   "execution_count": 11,
   "metadata": {
    "collapsed": false
   },
   "outputs": [
    {
     "data": {
      "text/plain": [
       "5.5"
      ]
     },
     "execution_count": 11,
     "metadata": {},
     "output_type": "execute_result"
    }
   ],
   "source": [
    "mediana([3, 4, 4, 5, 6, 6, 7, 9])"
   ]
  },
  {
   "cell_type": "code",
   "execution_count": null,
   "metadata": {
    "collapsed": true
   },
   "outputs": [],
   "source": []
  }
 ],
 "metadata": {
  "kernelspec": {
   "display_name": "Python 3",
   "language": "python",
   "name": "python3"
  },
  "language_info": {
   "codemirror_mode": {
    "name": "ipython",
    "version": 3
   },
   "file_extension": ".py",
   "mimetype": "text/x-python",
   "name": "python",
   "nbconvert_exporter": "python",
   "pygments_lexer": "ipython3",
   "version": "3.6.0"
  }
 },
 "nbformat": 4,
 "nbformat_minor": 2
}
