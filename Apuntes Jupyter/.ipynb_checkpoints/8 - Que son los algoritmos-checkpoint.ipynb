{
 "cells": [
  {
   "cell_type": "markdown",
   "metadata": {},
   "source": [
    "# Intro To Machine Learning"
   ]
  },
  {
   "cell_type": "markdown",
   "metadata": {},
   "source": [
    "![algoritmMachineLearn](algoritmMachineLearn.jpg)"
   ]
  },
  {
   "cell_type": "markdown",
   "metadata": {},
   "source": [
    "## ¿Qué son algoritmos?\n",
    "\n",
    "### Algoritmo \n",
    "Conjunto de instrucciones específicas y finitas, esto significa que son pasos determinados que tienen un inicio y un fin. Estos pasos nos ayudan a completar una tarea.\n",
    "\n",
    "Un buen ejemplo es un manual de indicaciones paso a paso para poder armar algún mueble o poder usar un aparato electrónico.\n",
    "\n",
    "Los algoritmos tienen siempre un paso inicial y una entrada, así como un paso final y un resultado.\n"
   ]
  },
  {
   "cell_type": "code",
   "execution_count": 1,
   "metadata": {
    "collapsed": false
   },
   "outputs": [
    {
     "name": "stdout",
     "output_type": "stream",
     "text": [
      "Serie de Fibonachi, hasta que numero deseas ver la secuncia?: 3458\n",
      "0 1 1 2 3 5 8 13 21 34 55 89 144 233 377 610 987 1597 2584 \n"
     ]
    }
   ],
   "source": [
    "# Codigo fibonacci con entrada del numero maximo\n",
    "def fib(n):\n",
    "     a, b = 0, 1\n",
    "     while a < n:\n",
    "         print(a, end=' ')\n",
    "         a, b = b, a+b\n",
    "     print()\n",
    "\n",
    "fib(int(input(\"Serie de Fibonachi, hasta que numero deseas ver la secuncia?: \")))"
   ]
  },
  {
   "cell_type": "code",
   "execution_count": 2,
   "metadata": {
    "collapsed": false
   },
   "outputs": [
    {
     "name": "stdout",
     "output_type": "stream",
     "text": [
      "Serie de Fibonachi, ¿número de términos?: 13\n",
      "[0, 1, 1, 2, 3, 5, 8, 13, 21, 34, 55, 89, 144]\n"
     ]
    }
   ],
   "source": [
    "# -*- coding: UTF-8 -*-\n",
    "\n",
    "n = int(input(\"Serie de Fibonachi, ¿número de términos?: \"))\n",
    "\n",
    "def fibonacci():\n",
    "\tresultado = [0]\n",
    "\tif n == 0: return print(resultado)\n",
    "\n",
    "\tresultado.append(1)\n",
    "\tactual = 1\n",
    "\tanterior = 0\n",
    "\tsuma = 0\n",
    "\ti = 1\n",
    "\n",
    "\twhile i < n-1:\n",
    "\t\t   suma=actual+anterior\n",
    "\t\t   anterior=actual\n",
    "\t\t   actual=suma\n",
    "\t\t   resultado.append(suma)\n",
    "\t\t   i=i+1\n",
    "\n",
    "\tprint(resultado)\n",
    "\n",
    "fibonacci()"
   ]
  },
  {
   "cell_type": "code",
   "execution_count": null,
   "metadata": {
    "collapsed": true
   },
   "outputs": [],
   "source": []
  }
 ],
 "metadata": {
  "kernelspec": {
   "display_name": "Python 3",
   "language": "python",
   "name": "python3"
  },
  "language_info": {
   "codemirror_mode": {
    "name": "ipython",
    "version": 3
   },
   "file_extension": ".py",
   "mimetype": "text/x-python",
   "name": "python",
   "nbconvert_exporter": "python",
   "pygments_lexer": "ipython3",
   "version": "3.6.0"
  }
 },
 "nbformat": 4,
 "nbformat_minor": 2
}
