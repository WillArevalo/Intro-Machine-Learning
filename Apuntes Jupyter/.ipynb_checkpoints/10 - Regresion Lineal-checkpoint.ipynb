{
 "cells": [
  {
   "cell_type": "markdown",
   "metadata": {},
   "source": [
    "# Intro To Machine Learning"
   ]
  },
  {
   "cell_type": "markdown",
   "metadata": {},
   "source": [
    "![regresion-lineal](regresion-lineal.gif )"
   ]
  },
  {
   "cell_type": "markdown",
   "metadata": {},
   "source": [
    "## Regresion Lineal"
   ]
  },
  {
   "cell_type": "markdown",
   "metadata": {},
   "source": [
    "**Regresión Lineal** es el algoritmo por defecto y es un algoritmo de aprendizaje supervisado. Ayuda a predecir el valor esperado de una variable a cuando b tiene un cierto valor.\n",
    "\n",
    "Para poder hacer una regresión lineal, asumimos que los valores tienen una relación lineal, por esto es necesario analizar nuestros datos antes de hacer una predicción para verificar que sea así.\n",
    "\n",
    "Esta es la fórmula para poder calcular el pronóstico:\n",
    "\n",
    "![pronostico](pronostico.png)\n",
    "\n",
    "**Pronóstico = Intersección + [Pendiente * Período de Tiempo]**\n",
    "\n",
    "El primer paso para calcular el pronóstico es calcular la pendiente, ésta es la fórmula:\n",
    "\n",
    "![pendiente](pendiente.png)\n",
    "\n",
    "Lo segundo es calcular la intersección de la línea para lo que tenemos la siguiente fórmula:\n",
    "\n",
    "![interseccion](interseccion.png)"
   ]
  },
  {
   "cell_type": "code",
   "execution_count": null,
   "metadata": {
    "collapsed": true
   },
   "outputs": [],
   "source": []
  }
 ],
 "metadata": {
  "kernelspec": {
   "display_name": "Python 3",
   "language": "python",
   "name": "python3"
  },
  "language_info": {
   "codemirror_mode": {
    "name": "ipython",
    "version": 3
   },
   "file_extension": ".py",
   "mimetype": "text/x-python",
   "name": "python",
   "nbconvert_exporter": "python",
   "pygments_lexer": "ipython3",
   "version": "3.6.0"
  }
 },
 "nbformat": 4,
 "nbformat_minor": 2
}
