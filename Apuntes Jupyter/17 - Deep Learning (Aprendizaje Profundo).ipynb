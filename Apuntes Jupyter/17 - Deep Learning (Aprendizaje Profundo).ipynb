{
 "cells": [
  {
   "cell_type": "markdown",
   "metadata": {},
   "source": [
    "# Intro To Machine Learning"
   ]
  },
  {
   "cell_type": "markdown",
   "metadata": {},
   "source": [
    "![braindeeplearn](braindeeplearn.jpg)"
   ]
  },
  {
   "cell_type": "markdown",
   "metadata": {},
   "source": [
    "## Ejemplo de aplicacion de Deep Learning"
   ]
  },
  {
   "cell_type": "markdown",
   "metadata": {},
   "source": [
    "![deepNeuralNetwork](deepNeuralNetwork.png)"
   ]
  },
  {
   "cell_type": "markdown",
   "metadata": {},
   "source": [
    "## Diferencia entre Machine Learning Y Deep Learning"
   ]
  },
  {
   "cell_type": "markdown",
   "metadata": {},
   "source": [
    "![deeplearningdesc](deeplearningdesc.png)"
   ]
  },
  {
   "cell_type": "markdown",
   "metadata": {},
   "source": [
    "Debido a su muy reciente auge, no se ha llegado a una definición definitiva de Deep Learning como concepto, sin embargo, aquí hay algunas de las definiciones que hay actualmente:\n",
    "\n",
    "- Se utiliza una cascada de capas con unidades de procesamiento no lineal para extraer y transformar variables.\n",
    "- Cada capa utiliza la salida de la capa anterior como entrada.\n",
    "- Se puede utilizar con algoritmos de aprendizaje supervisado o de aprendizaje sin supervisión.\n",
    "- Las características de más alto nivel se derivan de las características de nivel inferior, formando una representación jerárquica.\n",
    "\n",
    "Estos son algunos de los algoritmos de Deep Learning:\n",
    "\n",
    "- Deep Neural Networks (Redes Neuronales Profundas)\n",
    "- Convolutional Neural Networks (Redes Neuronales Convolucionales)\n",
    "- Deep Belief Networks (Redes de Creencias Profundas)\n",
    "\n",
    "Estas son algunas áreas donde se utiliza Deep Learning:\n",
    "\n",
    "- Computer Vision\n",
    "- Reconocimiento del habla\n",
    "- Reconocimiento de audio\n"
   ]
  },
  {
   "cell_type": "code",
   "execution_count": null,
   "metadata": {
    "collapsed": true
   },
   "outputs": [],
   "source": []
  }
 ],
 "metadata": {
  "kernelspec": {
   "display_name": "Python 3",
   "language": "python",
   "name": "python3"
  },
  "language_info": {
   "codemirror_mode": {
    "name": "ipython",
    "version": 3
   },
   "file_extension": ".py",
   "mimetype": "text/x-python",
   "name": "python",
   "nbconvert_exporter": "python",
   "pygments_lexer": "ipython3",
   "version": "3.6.0"
  }
 },
 "nbformat": 4,
 "nbformat_minor": 2
}
