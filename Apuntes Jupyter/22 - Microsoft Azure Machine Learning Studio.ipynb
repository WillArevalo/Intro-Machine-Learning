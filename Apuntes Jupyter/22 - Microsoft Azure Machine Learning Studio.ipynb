{
 "cells": [
  {
   "cell_type": "markdown",
   "metadata": {},
   "source": [
    "# Intro To Machine Learning"
   ]
  },
  {
   "cell_type": "markdown",
   "metadata": {},
   "source": [
    "![MSAzureML](MSAzureML.jpg)"
   ]
  },
  {
   "cell_type": "markdown",
   "metadata": {},
   "source": [
    "## Microsoft Azure Machine Learning Studio"
   ]
  },
  {
   "cell_type": "markdown",
   "metadata": {},
   "source": [
    "Ingresamos con una cuenta gratuita a azure Machine learning\n",
    "1. En la pestaña de Experiments agregar un nuevo experimento(esquina inferior izquierda) \n",
    "    escojemos un blank experiment y le damos un nombre \n",
    "    (MNIST regresión logistica multinomial)\n",
    "2. Buscamos el dataset de ejemplo(examples) que es el MNIST escojemos el de 10k imagenes y lo arrastramos al workshop\n",
    "3. Seleccionamos las columnas del dataset con un modulo que se llama (Select columns in dataset) y lo arrastramos debajo de el del set y escojemos el de seleccionar las columnas y en el sidebar a la derecha lanzamos el selector de columnas (Launch column selector), escojemos all columns y al okay(chulo) y lo unimos con el del dataset\n",
    "4. Dividimos el dataset en datos de entrenamiento y datos de pruebas con el modulo que se llama split data,conectamos y en el side bar en el numero escribimos 0.7 que se entendera que el 70% de los datos seran utilizados para entrenamiento y el otro 30% sera para pruebas\n",
    "5. Traemos el algoritmo con el trabajaremos en este caso el de Multiclass Logistic Regresion(Regresion logistica multinomial\n",
    "6. Traemos un modulo para entrenar el modelo que se llama Train Model y en las opciones lanzamos el selector de columnas y escojemos la de Label y le damos ok\n",
    "7. Hasta ya podremos ejecutar y ya servira para entrenar nuestro modelo en el boton de play\n",
    "8. Ya terminado la correcta ejecucion podemos vizualizar los datos dandole click a la circunferencia pequeña del train model y dando en visualize con ello podemos visualizar la aproximacion sobre cada numero que van del 0 al 9.\n",
    "9. En base al entrenamiento vamos a correr el set de pruebas con el modulo score model que ira conectado al train model y al split data\n",
    "10. Podemos volver a ejecutar el modelo que lo que hara sera comparar el modelo ya entrenado contra la parte de dataset de pruebas que quedo del 30% del dataset __La grafica es hasta este punto__\n",
    "11. Por ultimo podemos poner un modulo que evaluara la presicion de predicion de nuestro el cual se llama evaluate model y lo conectamos al score model y corremos el modelo, podemos visualizar los resultados."
   ]
  },
  {
   "cell_type": "markdown",
   "metadata": {},
   "source": [
    "![visualizeAzureML](visualizeAzureML.png)\n",
    "\n",
    "_El label representa el numero que pronostico._"
   ]
  },
  {
   "cell_type": "markdown",
   "metadata": {},
   "source": [
    "___Todo quedaria de la sgte forma___"
   ]
  },
  {
   "cell_type": "markdown",
   "metadata": {},
   "source": [
    "![AzureModelML](AzureModelML.png)"
   ]
  },
  {
   "cell_type": "markdown",
   "metadata": {},
   "source": [
    "Mirando las estadisticas de presicion de predicion\n",
    "![AzurePredict](AzurePredict.png)"
   ]
  },
  {
   "cell_type": "code",
   "execution_count": null,
   "metadata": {
    "collapsed": true
   },
   "outputs": [],
   "source": []
  }
 ],
 "metadata": {
  "kernelspec": {
   "display_name": "Python 3",
   "language": "python",
   "name": "python3"
  },
  "language_info": {
   "codemirror_mode": {
    "name": "ipython",
    "version": 3
   },
   "file_extension": ".py",
   "mimetype": "text/x-python",
   "name": "python",
   "nbconvert_exporter": "python",
   "pygments_lexer": "ipython3",
   "version": "3.6.0"
  }
 },
 "nbformat": 4,
 "nbformat_minor": 2
}
