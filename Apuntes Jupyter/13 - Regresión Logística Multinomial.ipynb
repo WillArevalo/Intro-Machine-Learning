{
 "cells": [
  {
   "cell_type": "markdown",
   "metadata": {},
   "source": [
    "# Intro To Machine Learning"
   ]
  },
  {
   "cell_type": "markdown",
   "metadata": {},
   "source": [
    "![regresion-lineal](regresion-lineal.gif )"
   ]
  },
  {
   "cell_type": "markdown",
   "metadata": {},
   "source": [
    "## Regresión Logística Multinomial"
   ]
  },
  {
   "cell_type": "markdown",
   "metadata": {},
   "source": [
    "Si recuerdas, la Regresión Logística es la probabilidad de que un evento ocurra o no, en este caso, con la Regresión Logística Multinomial ya tenemos diferentes tipos de eventos, por tanto, en su definición es la probabilidad de que ocurra cualquiera de estos eventos.\n",
    "\n",
    "Este también considerado un algoritmo de clasificación.\n",
    "\n",
    "Un ejemplo sencillo es, la probabilidad de que cuando llegue a casa no haya comida, este en proceso o lista."
   ]
  },
  {
   "cell_type": "markdown",
   "metadata": {},
   "source": [
    "![multinomialLogisticReg](multinomialLogisticReg.png)"
   ]
  },
  {
   "cell_type": "code",
   "execution_count": null,
   "metadata": {
    "collapsed": true
   },
   "outputs": [],
   "source": []
  }
 ],
 "metadata": {
  "kernelspec": {
   "display_name": "Python 3",
   "language": "python",
   "name": "python3"
  },
  "language_info": {
   "codemirror_mode": {
    "name": "ipython",
    "version": 3
   },
   "file_extension": ".py",
   "mimetype": "text/x-python",
   "name": "python",
   "nbconvert_exporter": "python",
   "pygments_lexer": "ipython3",
   "version": "3.6.0"
  }
 },
 "nbformat": 4,
 "nbformat_minor": 2
}
