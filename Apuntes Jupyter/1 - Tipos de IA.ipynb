{
 "cells": [
  {
   "cell_type": "markdown",
   "metadata": {},
   "source": [
    "# Intro To Machine Learning"
   ]
  },
  {
   "cell_type": "markdown",
   "metadata": {},
   "source": [
    "![machine-learning](machine-learning.png )"
   ]
  },
  {
   "cell_type": "markdown",
   "metadata": {},
   "source": [
    "## Tipos de IA:"
   ]
  },
  {
   "cell_type": "markdown",
   "metadata": {},
   "source": [
    "### Inteligencia Artificial \n",
    "Intento de hacer tan o más inteligente que un humano. Darle la capacidad de razonar o pensar en función a los datos que se le está pasando."
   ]
  },
  {
   "cell_type": "markdown",
   "metadata": {},
   "source": [
    "#### Niveles de Inteligencia Artificial:\n",
    "* ##### Inteligencia Artificial Débil. \n",
    "    Como ejemplo, un asistente de celular como Siri. No rebasan la línea de lo que están programados para hacer.\n",
    "* ##### Inteligencia Artificial Fuerte. \n",
    "    Tiene la habilidad de reconocer patrones en el comportamiento humano y/o el ambiente.\n",
    "* ##### Super Inteligencia Artificial. \n",
    "    Supera la inteligencia de un humano, incluso alguno considerado genio. Tiene la capacidad de tomar decisiones propias."
   ]
  },
  {
   "cell_type": "markdown",
   "metadata": {},
   "source": [
    "### Singularity\n",
    "#### *Es el nombre que se le da al concepto del momento en el que la Super Inteligencia Artificial va a dominar.*"
   ]
  },
  {
   "cell_type": "code",
   "execution_count": null,
   "metadata": {
    "collapsed": true
   },
   "outputs": [],
   "source": []
  }
 ],
 "metadata": {
  "kernelspec": {
   "display_name": "Python 3",
   "language": "python",
   "name": "python3"
  },
  "language_info": {
   "codemirror_mode": {
    "name": "ipython",
    "version": 3
   },
   "file_extension": ".py",
   "mimetype": "text/x-python",
   "name": "python",
   "nbconvert_exporter": "python",
   "pygments_lexer": "ipython3",
   "version": "3.6.0"
  }
 },
 "nbformat": 4,
 "nbformat_minor": 2
}
