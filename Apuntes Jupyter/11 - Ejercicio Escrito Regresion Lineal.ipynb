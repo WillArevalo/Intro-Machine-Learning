{
 "cells": [
  {
   "cell_type": "markdown",
   "metadata": {},
   "source": [
    "# Intro To Machine Learning"
   ]
  },
  {
   "cell_type": "markdown",
   "metadata": {},
   "source": [
    "![regresion-lineal](regresion-lineal.gif )"
   ]
  },
  {
   "cell_type": "markdown",
   "metadata": {},
   "source": [
    "## Linear Regression Python Tutorial"
   ]
  },
  {
   "cell_type": "code",
   "execution_count": 1,
   "metadata": {
    "collapsed": false
   },
   "outputs": [
    {
     "name": "stdout",
     "output_type": "stream",
     "text": [
      "Populating the interactive namespace from numpy and matplotlib\n"
     ]
    }
   ],
   "source": [
    "import numpy as np\n",
    "import pandas as pd\n",
    "from sklearn.linear_model import LinearRegression\n",
    "%pylab inline\n",
    "import matplotlib.pyplot as plt\n",
    "import seaborn as sns"
   ]
  },
  {
   "cell_type": "code",
   "execution_count": 2,
   "metadata": {
    "collapsed": false
   },
   "outputs": [
    {
     "name": "stdout",
     "output_type": "stream",
     "text": [
      "Las dimensiones del dataset son (100, 2)\n"
     ]
    },
    {
     "data": {
      "text/html": [
       "<div>\n",
       "<table border=\"1\" class=\"dataframe\">\n",
       "  <thead>\n",
       "    <tr style=\"text-align: right;\">\n",
       "      <th></th>\n",
       "      <th>x</th>\n",
       "      <th>y</th>\n",
       "    </tr>\n",
       "  </thead>\n",
       "  <tbody>\n",
       "    <tr>\n",
       "      <th>0</th>\n",
       "      <td>82.583220</td>\n",
       "      <td>134.907414</td>\n",
       "    </tr>\n",
       "    <tr>\n",
       "      <th>1</th>\n",
       "      <td>73.922466</td>\n",
       "      <td>134.085180</td>\n",
       "    </tr>\n",
       "    <tr>\n",
       "      <th>2</th>\n",
       "      <td>34.887445</td>\n",
       "      <td>NaN</td>\n",
       "    </tr>\n",
       "    <tr>\n",
       "      <th>3</th>\n",
       "      <td>61.839983</td>\n",
       "      <td>114.530638</td>\n",
       "    </tr>\n",
       "    <tr>\n",
       "      <th>4</th>\n",
       "      <td>16.775940</td>\n",
       "      <td>31.376437</td>\n",
       "    </tr>\n",
       "    <tr>\n",
       "      <th>5</th>\n",
       "      <td>0.016737</td>\n",
       "      <td>8.764634</td>\n",
       "    </tr>\n",
       "    <tr>\n",
       "      <th>6</th>\n",
       "      <td>44.457646</td>\n",
       "      <td>73.285341</td>\n",
       "    </tr>\n",
       "    <tr>\n",
       "      <th>7</th>\n",
       "      <td>10.344909</td>\n",
       "      <td>18.859865</td>\n",
       "    </tr>\n",
       "  </tbody>\n",
       "</table>\n",
       "</div>"
      ],
      "text/plain": [
       "           x           y\n",
       "0  82.583220  134.907414\n",
       "1  73.922466  134.085180\n",
       "2  34.887445         NaN\n",
       "3  61.839983  114.530638\n",
       "4  16.775940   31.376437\n",
       "5   0.016737    8.764634\n",
       "6  44.457646   73.285341\n",
       "7  10.344909   18.859865"
      ]
     },
     "execution_count": 2,
     "metadata": {},
     "output_type": "execute_result"
    }
   ],
   "source": [
    "raw_data = pd.read_csv('linear.csv') #El dataset se encuentra en github\n",
    "print(\"Las dimensiones del dataset son {}\".format(raw_data.shape))\n",
    "raw_data.head(8)"
   ]
  },
  {
   "cell_type": "markdown",
   "metadata": {},
   "source": [
    "1) Preprocess the data to remove any points with a missing y value"
   ]
  },
  {
   "cell_type": "code",
   "execution_count": 3,
   "metadata": {
    "collapsed": false
   },
   "outputs": [
    {
     "name": "stdout",
     "output_type": "stream",
     "text": [
      "Las dimensiones del nuevo dataset son (92, 2)\n"
     ]
    },
    {
     "data": {
      "text/html": [
       "<div>\n",
       "<table border=\"1\" class=\"dataframe\">\n",
       "  <thead>\n",
       "    <tr style=\"text-align: right;\">\n",
       "      <th></th>\n",
       "      <th>x</th>\n",
       "      <th>y</th>\n",
       "    </tr>\n",
       "  </thead>\n",
       "  <tbody>\n",
       "    <tr>\n",
       "      <th>0</th>\n",
       "      <td>82.583220</td>\n",
       "      <td>134.907414</td>\n",
       "    </tr>\n",
       "    <tr>\n",
       "      <th>1</th>\n",
       "      <td>73.922466</td>\n",
       "      <td>134.085180</td>\n",
       "    </tr>\n",
       "    <tr>\n",
       "      <th>3</th>\n",
       "      <td>61.839983</td>\n",
       "      <td>114.530638</td>\n",
       "    </tr>\n",
       "    <tr>\n",
       "      <th>4</th>\n",
       "      <td>16.775940</td>\n",
       "      <td>31.376437</td>\n",
       "    </tr>\n",
       "    <tr>\n",
       "      <th>5</th>\n",
       "      <td>0.016737</td>\n",
       "      <td>8.764634</td>\n",
       "    </tr>\n",
       "    <tr>\n",
       "      <th>6</th>\n",
       "      <td>44.457646</td>\n",
       "      <td>73.285341</td>\n",
       "    </tr>\n",
       "    <tr>\n",
       "      <th>7</th>\n",
       "      <td>10.344909</td>\n",
       "      <td>18.859865</td>\n",
       "    </tr>\n",
       "    <tr>\n",
       "      <th>8</th>\n",
       "      <td>42.767132</td>\n",
       "      <td>72.946609</td>\n",
       "    </tr>\n",
       "    <tr>\n",
       "      <th>9</th>\n",
       "      <td>20.856638</td>\n",
       "      <td>28.637286</td>\n",
       "    </tr>\n",
       "    <tr>\n",
       "      <th>10</th>\n",
       "      <td>16.829055</td>\n",
       "      <td>27.184138</td>\n",
       "    </tr>\n",
       "    <tr>\n",
       "      <th>11</th>\n",
       "      <td>1.079025</td>\n",
       "      <td>15.468955</td>\n",
       "    </tr>\n",
       "    <tr>\n",
       "      <th>12</th>\n",
       "      <td>45.632552</td>\n",
       "      <td>77.255525</td>\n",
       "    </tr>\n",
       "    <tr>\n",
       "      <th>13</th>\n",
       "      <td>89.412664</td>\n",
       "      <td>147.817536</td>\n",
       "    </tr>\n",
       "    <tr>\n",
       "      <th>14</th>\n",
       "      <td>3.882387</td>\n",
       "      <td>29.629148</td>\n",
       "    </tr>\n",
       "    <tr>\n",
       "      <th>15</th>\n",
       "      <td>50.245019</td>\n",
       "      <td>92.315717</td>\n",
       "    </tr>\n",
       "    <tr>\n",
       "      <th>16</th>\n",
       "      <td>70.484988</td>\n",
       "      <td>111.063745</td>\n",
       "    </tr>\n",
       "  </tbody>\n",
       "</table>\n",
       "</div>"
      ],
      "text/plain": [
       "            x           y\n",
       "0   82.583220  134.907414\n",
       "1   73.922466  134.085180\n",
       "3   61.839983  114.530638\n",
       "4   16.775940   31.376437\n",
       "5    0.016737    8.764634\n",
       "6   44.457646   73.285341\n",
       "7   10.344909   18.859865\n",
       "8   42.767132   72.946609\n",
       "9   20.856638   28.637286\n",
       "10  16.829055   27.184138\n",
       "11   1.079025   15.468955\n",
       "12  45.632552   77.255525\n",
       "13  89.412664  147.817536\n",
       "14   3.882387   29.629148\n",
       "15  50.245019   92.315717\n",
       "16  70.484988  111.063745"
      ]
     },
     "execution_count": 3,
     "metadata": {},
     "output_type": "execute_result"
    }
   ],
   "source": [
    "filtered_data = raw_data[~np.isnan(raw_data[\"y\"])] #removes rows with NaN in them\n",
    "print(\"Las dimensiones del nuevo dataset son {}\".format(filtered_data.shape))\n",
    "filtered_data.head(16)"
   ]
  },
  {
   "cell_type": "markdown",
   "metadata": {},
   "source": [
    "2) Fit a linear regression model using sklearn's LinearRegression package"
   ]
  },
  {
   "cell_type": "code",
   "execution_count": 4,
   "metadata": {
    "collapsed": false
   },
   "outputs": [
    {
     "name": "stdout",
     "output_type": "stream",
     "text": [
      "formula: \n",
      "    y = mx + b\n",
      "    y = [ 1.5831968]x + [ 4.4701969]\n"
     ]
    }
   ],
   "source": [
    "npMatrix = np.matrix(filtered_data)\n",
    "X, Y = npMatrix[:,0], npMatrix[:,1]\n",
    "mdl = LinearRegression().fit(X,Y) # either this or the next line\n",
    "#mdl = LinearRegression().fit(filtered_data[['x']],filtered_data.y)\n",
    "m = mdl.coef_[0]\n",
    "b = mdl.intercept_\n",
    "print (\"\"\"formula: \n",
    "    y = mx + b\n",
    "    y = {0}x + {1}\"\"\".format(m, b)) # following slope intercept form"
   ]
  },
  {
   "cell_type": "code",
   "execution_count": 5,
   "metadata": {
    "collapsed": false
   },
   "outputs": [
    {
     "data": {
      "image/png": "[encoded data removed]",
      "text/plain": [
       "<matplotlib.figure.Figure at 0xb0c2f7d828>"
      ]
     },
     "metadata": {},
     "output_type": "display_data"
    }
   ],
   "source": [
    "plt.scatter(X,Y, color='green')\n",
    "plt.plot([0,100],[b,m*100+b],'r', color='black')\n",
    "plt.title('Linear Regression Example', fontsize = 20, color='orange')\n",
    "plt.xlabel('Axis X', fontsize = 15)\n",
    "plt.ylabel('Axis Y', fontsize = 15)\n",
    "plt.show()"
   ]
  },
  {
   "cell_type": "markdown",
   "metadata": {},
   "source": [
    "*Para mas documentacion los sgtes links *\n",
    "\n",
    "https://www.youtube.com/watch?v=dSYJVbj4Eew\n",
    "\n",
    "https://github.com/mGalarnyk/Python_Tutorials/blob/master/Python_Basics/Linear_Regression/Linear_Regression_Python.ipynb"
   ]
  },
  {
   "cell_type": "markdown",
   "metadata": {},
   "source": [
    "## O con Seaborn"
   ]
  },
  {
   "cell_type": "code",
   "execution_count": 6,
   "metadata": {
    "collapsed": false
   },
   "outputs": [
    {
     "data": {
      "text/plain": [
       "<matplotlib.axes._subplots.AxesSubplot at 0xb0c2f7d4a8>"
      ]
     },
     "execution_count": 6,
     "metadata": {},
     "output_type": "execute_result"
    },
    {
     "data": {
      "image/png": "[encoded data removed]",
      "text/plain": [
       "<matplotlib.figure.Figure at 0xb0be8b7978>"
      ]
     },
     "metadata": {},
     "output_type": "display_data"
    }
   ],
   "source": [
    "#Histogram de la columna x \n",
    "#en donde el eje y es la cantidad de veces que se repite el dato\n",
    "#Lo que se puede leer como los valores en el rango de 0 a 5 se repiten\n",
    "#alrededor de 11 veces\n",
    "filtered_data['x'].hist()"
   ]
  },
  {
   "cell_type": "code",
   "execution_count": 7,
   "metadata": {
    "collapsed": false
   },
   "outputs": [
    {
     "data": {
      "text/plain": [
       "<matplotlib.axes._subplots.AxesSubplot at 0xb0c48900b8>"
      ]
     },
     "execution_count": 7,
     "metadata": {},
     "output_type": "execute_result"
    },
    {
     "data": {
      "image/png": "[encoded data removed]",
      "text/plain": [
       "<matplotlib.figure.Figure at 0xb0c48b12e8>"
      ]
     },
     "metadata": {},
     "output_type": "display_data"
    }
   ],
   "source": [
    "#Histogram de la columna y \n",
    "#en donde el eje y es la cantidad de veces que se repite el dato\n",
    "#Lo que se puede leer como los valores en el rango de 0 a 13 se repiten\n",
    "#alrededor de 3 veces\n",
    "filtered_data['y'].hist()"
   ]
  },
  {
   "cell_type": "code",
   "execution_count": 8,
   "metadata": {
    "collapsed": false
   },
   "outputs": [
    {
     "name": "stderr",
     "output_type": "stream",
     "text": [
      "C:\\Users\\Beatsaudio\\Anaconda3\\lib\\site-packages\\statsmodels\\nonparametric\\kdetools.py:20: VisibleDeprecationWarning: using a non-integer number instead of an integer will result in an error in the future\n",
      "  y = X[:m/2+1] + np.r_[0,X[m/2+1:],0]*1j\n"
     ]
    },
    {
     "data": {
      "text/plain": [
       "<seaborn.axisgrid.JointGrid at 0xb0c49582b0>"
      ]
     },
     "execution_count": 8,
     "metadata": {},
     "output_type": "execute_result"
    },
    {
     "data": {
      "image/png": "[encoded data removed]",
      "text/plain": [
       "<matplotlib.figure.Figure at 0xb0c49581d0>"
      ]
     },
     "metadata": {},
     "output_type": "display_data"
    }
   ],
   "source": [
    "#Regresion Lineal\n",
    "sns.jointplot(x='x', y='y', data=filtered_data, kind='reg', color=\"g\")"
   ]
  },
  {
   "cell_type": "code",
   "execution_count": 9,
   "metadata": {
    "collapsed": false
   },
   "outputs": [
    {
     "data": {
      "text/plain": [
       "<matplotlib.axes._subplots.AxesSubplot at 0xb0c4b42630>"
      ]
     },
     "execution_count": 9,
     "metadata": {},
     "output_type": "execute_result"
    },
    {
     "data": {
      "image/png": "[encoded data removed]",
      "text/plain": [
       "<matplotlib.figure.Figure at 0xb0c4b2a6d8>"
      ]
     },
     "metadata": {},
     "output_type": "display_data"
    }
   ],
   "source": [
    "sns.regplot(x='x', y='y', data=filtered_data, color=\"g\", marker=\"+\", truncate=True) \n",
    "#Solo la regresion sin histogram"
   ]
  },
  {
   "cell_type": "code",
   "execution_count": null,
   "metadata": {
    "collapsed": true
   },
   "outputs": [],
   "source": []
  },
  {
   "cell_type": "markdown",
   "metadata": {},
   "source": [
    "## Ejercicio Regresion Lineal"
   ]
  },
  {
   "cell_type": "markdown",
   "metadata": {},
   "source": [
    "Tenemos los metros cuadrados de 4 casas y sus precios, ahora vamos a calcular la pendiente y la intersección para así predecir el precio de una casa 35 metros cuadrados usando el algoritmo de **Regresión Lineal**.\n",
    "\n",
    "**n** = Cantidad de casas\n",
    "\n",
    "**X** = Metros\n",
    "\n",
    "**t** = Precios\n",
    "\n",
    "![tablaRegresionLineal](tablaRegresionLineal.png)\n",
    "\n"
   ]
  },
  {
   "cell_type": "code",
   "execution_count": 8,
   "metadata": {
    "collapsed": false
   },
   "outputs": [
    {
     "name": "stdout",
     "output_type": "stream",
     "text": [
      "\u001b[36m\n",
      "Bienvenido a compucasas.\n",
      "\n",
      "Menu, digite un numero:\n",
      "    1)Deseo ingresar los datos.\n",
      "    2)Imprimir los datos.\n",
      "    3)Deseo predecir el valor de una casa.\n",
      "    99)Salir\n",
      "99\n",
      "\u001b[31mHasta la vista baby. ಠ_ಠ\n"
     ]
    }
   ],
   "source": [
    "from colorama import init, Fore, Back, Style #Libreria de colores y stilos de print\n",
    "from IPython.display import clear_output\n",
    "import os\n",
    "b_x = []\n",
    "b_t = []\n",
    "def clear(): #Funcion para limpiar las diferentes pantallas\n",
    "    if os.name == \"nt\": # Windows\n",
    "        os.system(\"cls\")\n",
    "    elif os.name == \"posix\": # Linux / Mac\n",
    "        os.system(\"clear\")\n",
    "    clear_output(wait=True) #Jupyter\n",
    "def tablaRegistros(): #Funcion para mostrar tabla de registros\n",
    "            print(Fore.BLUE+\"Los datos ingresados son\\n\")\n",
    "            print(Fore.YELLOW+\"M²\\tPrecio\")\n",
    "            for i in range(len(b_t)):\n",
    "                print(Fore.GREEN+\"{}\\t{}\".format(b_x[i],b_t[i]))\n",
    "while(True): #MENU\n",
    "    print(Fore.CYAN+\"\\nBienvenido a compucasas.\")\n",
    "    opcion = int(input(\"\"\"\\nMenu, digite un numero:\n",
    "    1)Deseo ingresar los datos.\n",
    "    2)Imprimir los datos.\n",
    "    3)Deseo predecir el valor de una casa.\n",
    "    99)Salir\\n\"\"\"))\n",
    "    if opcion == 1: #INGRESO DE DATOS\n",
    "        while(True):\n",
    "            print(Fore.GREEN+\"Registro de datos\")\n",
    "            x = input(\"Introduzca el numero de m²:\\n\")\n",
    "            if x.isdigit() and x != '0':\n",
    "                b_x.append(x)\n",
    "                clear()\n",
    "                print(Fore.GREEN+\"El valor que introduciste es {}m² \\n\".format(x))\n",
    "                break\n",
    "            else:\n",
    "                clear()\n",
    "                print(Fore.RED+\"\\nEl dato introducido no es un numero o es 0, {}\\n\".format(x))\n",
    "        while(True):\n",
    "            print(Fore.GREEN+\"Registro de datos\")\n",
    "            t = input(\"Introduzca el precio por piso:\\n\")\n",
    "            if t.isdigit() and t != '0':\n",
    "                b_t.append(t)\n",
    "                clear()\n",
    "                print(Fore.GREEN+\"El valor que introduciste es {} pesos \\n\".format(t))\n",
    "                break\n",
    "            else:\n",
    "                clear()\n",
    "                print(Fore.RED+\"\\nEl dato introducido no es un numero o es 0, {}\\n\".format(t))\n",
    "        print (\"¡Datos registrados!\")\n",
    "    elif opcion == 2: #MUESTRA TABLA DE REGISTROS\n",
    "        tablaRegistros()\n",
    "        input(\"Enter para continuar\\n\")\n",
    "        clear()\n",
    "    elif opcion == 3: #PRONOSTICO\n",
    "        while(True):\n",
    "            print(Fore.GREEN+'\\nPronostico :)')\n",
    "            f = input(\"Pronostica el valor del piso para este numero de m²:\\n\")\n",
    "            if f.isdigit() and f != '0':\n",
    "                forecast = f\n",
    "                clear()\n",
    "                print(Fore.GREEN+\"El valor que introduciste es {} \\n\".format(forecast))\n",
    "                input(\"Enter para continuar\\n\")\n",
    "                clear()\n",
    "                break\n",
    "            else:\n",
    "                clear()\n",
    "                print(Fore.RED+\"\\nEl dato introducido no es un numero o es 0, {}\\n\".format(f))\n",
    "    elif opcion == 99: #SALIR\n",
    "        print (Fore.RED+\"Hasta la vista baby. ಠ_ಠ\")\n",
    "        break\n",
    "    else: #OPCION INCORRECTA\n",
    "        clear()\n",
    "        print(\"Opcion incorrecta, digite otra porfavor.\")\n",
    "        "
   ]
  },
  {
   "cell_type": "code",
   "execution_count": null,
   "metadata": {
    "collapsed": true
   },
   "outputs": [],
   "source": []
  },
  {
   "cell_type": "code",
   "execution_count": null,
   "metadata": {
    "collapsed": true
   },
   "outputs": [],
   "source": []
  }
 ],
 "metadata": {
  "kernelspec": {
   "display_name": "Python 3",
   "language": "python",
   "name": "python3"
  },
  "language_info": {
   "codemirror_mode": {
    "name": "ipython",
    "version": 3
   },
   "file_extension": ".py",
   "mimetype": "text/x-python",
   "name": "python",
   "nbconvert_exporter": "python",
   "pygments_lexer": "ipython3",
   "version": "3.6.0"
  }
 },
 "nbformat": 4,
 "nbformat_minor": 2
}
