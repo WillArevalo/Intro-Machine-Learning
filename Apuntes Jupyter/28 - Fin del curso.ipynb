{
 "cells": [
  {
   "cell_type": "markdown",
   "metadata": {},
   "source": [
    "# Intro To Machine Learning"
   ]
  },
  {
   "cell_type": "markdown",
   "metadata": {},
   "source": [
    "![algoritmMachineLearn](algoritmMachineLearn.jpg)"
   ]
  },
  {
   "cell_type": "markdown",
   "metadata": {},
   "source": [
    "## Fin del curso"
   ]
  },
  {
   "cell_type": "markdown",
   "metadata": {},
   "source": [
    "Con esto termina el curso\n",
    "Adjunto algunos links para profundizar \n",
    "- [TensorFlow Tutorials](https://www.tensorflow.org/get_started/mnist/beginners)\n",
    "- [Playlist YT TensorFlow Ejemplos en español](https://www.youtube.com/watch?v=4MHSCz9hguM&index=1&list=PLNUuXUGwh9WxYSNs8QT5fYB5usZiDdylJ)\n",
    "\n",
    "Libro _Hello World en TensorFlow: Para iniciarse en la programación del Deep Learning._"
   ]
  },
  {
   "cell_type": "code",
   "execution_count": null,
   "metadata": {
    "collapsed": true
   },
   "outputs": [],
   "source": []
  }
 ],
 "metadata": {
  "kernelspec": {
   "display_name": "Python 3",
   "language": "python",
   "name": "python3"
  },
  "language_info": {
   "codemirror_mode": {
    "name": "ipython",
    "version": 3
   },
   "file_extension": ".py",
   "mimetype": "text/x-python",
   "name": "python",
   "nbconvert_exporter": "python",
   "pygments_lexer": "ipython3",
   "version": "3.6.0"
  }
 },
 "nbformat": 4,
 "nbformat_minor": 2
}
