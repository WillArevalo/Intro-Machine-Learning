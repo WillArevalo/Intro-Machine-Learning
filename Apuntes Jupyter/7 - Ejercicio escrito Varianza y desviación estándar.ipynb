{
 "cells": [
  {
   "cell_type": "markdown",
   "metadata": {},
   "source": [
    "# Intro To Machine Learning\n"
   ]
  },
  {
   "cell_type": "markdown",
   "metadata": {},
   "source": [
    "![regresion-lineal](regresion-lineal.gif )"
   ]
  },
  {
   "cell_type": "markdown",
   "metadata": {},
   "source": [
    "## Ejercicio escrito: Varianza y desviación estándar"
   ]
  },
  {
   "cell_type": "markdown",
   "metadata": {},
   "source": [
    "Ahora vamos a poner en práctica los conceptos avanzados de Probabilidad y Estadística que aprendimos en el material anterior.\n",
    "\n",
    "**Tenemos un grupo de estudiantes de Inglés con las siguientes edades:**\n",
    "\n",
    "*13, 14, 15, 15, 15, 16, 17, 18, 20*\n",
    "\n",
    "Calcula la varianza y la desviación estándar de las edades del grupo de estudiantes."
   ]
  },
  {
   "cell_type": "code",
   "execution_count": null,
   "metadata": {
    "collapsed": true
   },
   "outputs": [],
   "source": []
  }
 ],
 "metadata": {
  "kernelspec": {
   "display_name": "Python 3",
   "language": "python",
   "name": "python3"
  },
  "language_info": {
   "codemirror_mode": {
    "name": "ipython",
    "version": 3
   },
   "file_extension": ".py",
   "mimetype": "text/x-python",
   "name": "python",
   "nbconvert_exporter": "python",
   "pygments_lexer": "ipython3",
   "version": "3.6.0"
  }
 },
 "nbformat": 4,
 "nbformat_minor": 2
}
