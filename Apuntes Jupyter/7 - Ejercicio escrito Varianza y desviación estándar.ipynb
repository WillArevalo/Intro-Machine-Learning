{
 "cells": [
  {
   "cell_type": "markdown",
   "metadata": {},
   "source": [
    "# Intro To Machine Learning\n"
   ]
  },
  {
   "cell_type": "markdown",
   "metadata": {},
   "source": [
    "![regresion-lineal](regresion-lineal.gif )"
   ]
  },
  {
   "cell_type": "markdown",
   "metadata": {},
   "source": [
    "## Ejercicio escrito: Varianza y desviación estándar"
   ]
  },
  {
   "cell_type": "markdown",
   "metadata": {},
   "source": [
    "Ahora vamos a poner en práctica los conceptos avanzados de Probabilidad y Estadística que aprendimos en el material anterior.\n",
    "\n",
    "**Tenemos un grupo de estudiantes de Inglés con las siguientes edades:**\n",
    "\n",
    "*13, 14, 15, 15, 15, 16, 17, 18, 20*\n",
    "\n",
    "Calcula la varianza y la desviación estándar de las edades del grupo de estudiantes."
   ]
  },
  {
   "cell_type": "markdown",
   "metadata": {
    "collapsed": true
   },
   "source": [
    "![ejercicio-escrito](ejercicio-escrito2.jpg)"
   ]
  },
  {
   "cell_type": "code",
   "execution_count": 1,
   "metadata": {
    "collapsed": true
   },
   "outputs": [],
   "source": [
    "from math import pow, sqrt\n",
    "\n",
    "#Obtener media\n",
    "def media(datos):\n",
    "    sumatoria = sum(datos)\n",
    "    n = len(datos)\n",
    "    result = sumatoria / n\n",
    "    return result\n",
    "\n",
    "#Obtener la varianza\n",
    "def varianza(datos):\n",
    "    v_media = media(datos)\n",
    "    varianzalist = []\n",
    "    for i in datos:\n",
    "        i = pow((i - v_media), 2)\n",
    "        varianzalist.append(i)\n",
    "\n",
    "    v_varianza = sum(varianzalist) / len(varianzalist)\n",
    "    return v_varianza\n",
    "\n",
    "#Obtener la desviacion Estandar\n",
    "def desviacionEstandar(datos):\n",
    "    desviacion = sqrt(varianza(datos))\n",
    "    return desviacion"
   ]
  },
  {
   "cell_type": "code",
   "execution_count": 2,
   "metadata": {
    "collapsed": false
   },
   "outputs": [
    {
     "name": "stdout",
     "output_type": "stream",
     "text": [
      "La varianza de los datos ingresados es 4.098765432098765.\n",
      "La desviacion estandar de los datos ingresados es 2.0245407953653998.\n"
     ]
    }
   ],
   "source": [
    "print(\"La varianza de los datos ingresados es {}.\".format(varianza([13, 14, 15, 15, 15, 16, 17, 18, 20])))\n",
    "print(\"La desviacion estandar de los datos ingresados es {}.\".format(desviacionEstandar([13, 14, 15, 15, 15, 16, 17, 18, 20])))"
   ]
  },
  {
   "cell_type": "markdown",
   "metadata": {},
   "source": [
    "## Con pandas"
   ]
  },
  {
   "cell_type": "code",
   "execution_count": 3,
   "metadata": {
    "collapsed": true
   },
   "outputs": [],
   "source": [
    "import pandas as pd"
   ]
  },
  {
   "cell_type": "code",
   "execution_count": 4,
   "metadata": {
    "collapsed": true
   },
   "outputs": [],
   "source": [
    "#representa esto [13, 14, 15, 15, 15, 16, 17, 18, 20]\n",
    "dataVaDes = pd.read_csv('listaVaDes.csv', index_col='#')"
   ]
  },
  {
   "cell_type": "code",
   "execution_count": 5,
   "metadata": {
    "collapsed": false
   },
   "outputs": [
    {
     "data": {
      "text/html": [
       "<div>\n",
       "<table border=\"1\" class=\"dataframe\">\n",
       "  <thead>\n",
       "    <tr style=\"text-align: right;\">\n",
       "      <th></th>\n",
       "      <th>Number</th>\n",
       "    </tr>\n",
       "    <tr>\n",
       "      <th>#</th>\n",
       "      <th></th>\n",
       "    </tr>\n",
       "  </thead>\n",
       "  <tbody>\n",
       "    <tr>\n",
       "      <th>1</th>\n",
       "      <td>13</td>\n",
       "    </tr>\n",
       "    <tr>\n",
       "      <th>2</th>\n",
       "      <td>14</td>\n",
       "    </tr>\n",
       "    <tr>\n",
       "      <th>3</th>\n",
       "      <td>15</td>\n",
       "    </tr>\n",
       "    <tr>\n",
       "      <th>4</th>\n",
       "      <td>15</td>\n",
       "    </tr>\n",
       "    <tr>\n",
       "      <th>5</th>\n",
       "      <td>15</td>\n",
       "    </tr>\n",
       "  </tbody>\n",
       "</table>\n",
       "</div>"
      ],
      "text/plain": [
       "   Number\n",
       "#        \n",
       "1      13\n",
       "2      14\n",
       "3      15\n",
       "4      15\n",
       "5      15"
      ]
     },
     "execution_count": 5,
     "metadata": {},
     "output_type": "execute_result"
    }
   ],
   "source": [
    "dataVaDes.head()"
   ]
  },
  {
   "cell_type": "code",
   "execution_count": 6,
   "metadata": {
    "collapsed": false
   },
   "outputs": [
    {
     "data": {
      "text/plain": [
       "(9, 1)"
      ]
     },
     "execution_count": 6,
     "metadata": {},
     "output_type": "execute_result"
    }
   ],
   "source": [
    "dataVaDes.shape"
   ]
  },
  {
   "cell_type": "code",
   "execution_count": 7,
   "metadata": {
    "collapsed": false
   },
   "outputs": [
    {
     "data": {
      "text/plain": [
       "#\n",
       "1    13\n",
       "2    14\n",
       "3    15\n",
       "4    15\n",
       "5    15\n",
       "6    16\n",
       "7    17\n",
       "8    18\n",
       "9    20\n",
       "Name: Number, dtype: int64"
      ]
     },
     "execution_count": 7,
     "metadata": {},
     "output_type": "execute_result"
    }
   ],
   "source": [
    "dataVaDes['Number']"
   ]
  },
  {
   "cell_type": "code",
   "execution_count": 11,
   "metadata": {
    "collapsed": false
   },
   "outputs": [
    {
     "data": {
      "text/plain": [
       "4.611111111111111"
      ]
     },
     "execution_count": 11,
     "metadata": {},
     "output_type": "execute_result"
    }
   ],
   "source": [
    "dataVaDes['Number'].var() #Hallando la varianza"
   ]
  },
  {
   "cell_type": "code",
   "execution_count": 12,
   "metadata": {
    "collapsed": false
   },
   "outputs": [
    {
     "data": {
      "text/plain": [
       "2.1473497877875207"
      ]
     },
     "execution_count": 12,
     "metadata": {},
     "output_type": "execute_result"
    }
   ],
   "source": [
    "dataVaDes['Number'].std() #Hallando la desviacion estandar"
   ]
  },
  {
   "cell_type": "code",
   "execution_count": null,
   "metadata": {
    "collapsed": true
   },
   "outputs": [],
   "source": []
  }
 ],
 "metadata": {
  "kernelspec": {
   "display_name": "Python 3",
   "language": "python",
   "name": "python3"
  },
  "language_info": {
   "codemirror_mode": {
    "name": "ipython",
    "version": 3
   },
   "file_extension": ".py",
   "mimetype": "text/x-python",
   "name": "python",
   "nbconvert_exporter": "python",
   "pygments_lexer": "ipython3",
   "version": "3.6.0"
  }
 },
 "nbformat": 4,
 "nbformat_minor": 2
}
