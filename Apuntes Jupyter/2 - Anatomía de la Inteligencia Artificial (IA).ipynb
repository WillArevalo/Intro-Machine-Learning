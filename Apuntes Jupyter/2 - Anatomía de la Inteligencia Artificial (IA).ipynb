{
 "cells": [
  {
   "cell_type": "markdown",
   "metadata": {},
   "source": [
    "# Intro To Machine Learning"
   ]
  },
  {
   "cell_type": "markdown",
   "metadata": {},
   "source": [
    "![machine-learning](machine-learning.png )"
   ]
  },
  {
   "cell_type": "markdown",
   "metadata": {},
   "source": [
    "## Anatomía de la Inteligencia Artificial"
   ]
  },
  {
   "cell_type": "markdown",
   "metadata": {},
   "source": [
    "En la anatomía de la Inteligencia Artificial existen 5 partes. Es importante tomar en cuenta que en la Inteligencia Artificial Débil no necesariamente deben existir estas 5. Sin embargo, para que una Inteligencia Artificial sea Fuerte o Super, necesita tener estas 5 partes."
   ]
  },
  {
   "cell_type": "markdown",
   "metadata": {},
   "source": [
    "Estas son las 5 partes:\n",
    "* *Percepción. A través de sensores.*\n",
    "* *Procesamiento natural del lenguaje.*\n",
    "* *Representación del conocimiento. Darle una imagen gráfica a los conocimientos o eventos.*\n",
    "* *Razonamiento. Capacidad para tomar una decisión.*\n",
    "* *Planeación y Navegación. La forma de reaccionar ante situaciones inesperadas.*"
   ]
  },
  {
   "cell_type": "code",
   "execution_count": null,
   "metadata": {
    "collapsed": true
   },
   "outputs": [],
   "source": []
  }
 ],
 "metadata": {
  "kernelspec": {
   "display_name": "Python 3",
   "language": "python",
   "name": "python3"
  },
  "language_info": {
   "codemirror_mode": {
    "name": "ipython",
    "version": 3
   },
   "file_extension": ".py",
   "mimetype": "text/x-python",
   "name": "python",
   "nbconvert_exporter": "python",
   "pygments_lexer": "ipython3",
   "version": "3.6.0"
  }
 },
 "nbformat": 4,
 "nbformat_minor": 2
}
