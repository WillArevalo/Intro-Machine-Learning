{
 "cells": [
  {
   "cell_type": "markdown",
   "metadata": {},
   "source": [
    "# Intro To Machine Learning"
   ]
  },
  {
   "cell_type": "markdown",
   "metadata": {},
   "source": [
    "![regresion-lineal](regresion-lineal.gif )"
   ]
  },
  {
   "cell_type": "markdown",
   "metadata": {},
   "source": [
    "## Varianza y Desviación Estándar\n",
    "Después de mirar los conceptos básicos de Probabilidad y Estadística y haberlos reafirmado con los ejercicios del material pasado, ahora veremos los conceptos avanzados que se necesita entender.\n",
    "Conceptos avanzados:\n",
    "### Varianza \n",
    "Es una medida de dispersión definida como la esperanza del cuadrado de la desviación de dicha variable respecto a la media, o dicho de otra forma, es la media de los residuos al cuadrado.\n",
    "\n",
    "![varianza](varianza.png )\n",
    "\n",
    "Esta formula se explica mejor siguiendo estos pasos:\n",
    "* a) Calcular la suma de los datos.\n",
    "* b) Calcular la media.\n",
    "* c) Restar la media a cada dato.\n",
    "* d) Elevar al cuadrado cada resultado.\n",
    "* e) Sumar todos los resultados y sacar la media de esa sumatoria.\n",
    "\n",
    "### Desviación Estándar \n",
    "Es la raíz cuadrada de la varianza de la variable.\n",
    "\n",
    "![desviacion-estandar](desviacion-estandar.jpg )\n",
    "\n",
    "Esta formula se explica mejor siguiendo estos pasos:\n",
    "* a) Calcular la suma de los datos.\n",
    "* b) Calcular la media.\n",
    "* c) Restar la media a cada dato.\n",
    "* d) Elevar al cuadrado cada resultado.\n",
    "* e) Sumar todos los resultados y sacar la media de esta sumatoria.\n",
    "* f) Raíz cuadrada del resultado."
   ]
  },
  {
   "cell_type": "code",
   "execution_count": 22,
   "metadata": {
    "collapsed": false
   },
   "outputs": [],
   "source": [
    "from math import pow, sqrt\n",
    "\n",
    "#Obtener media\n",
    "def media(datos):\n",
    "    sumatoria = sum(datos)\n",
    "    n = len(datos)\n",
    "    result = sumatoria / n\n",
    "    return result\n",
    "\n",
    "#Obtener la varianza\n",
    "def varianza(datos):\n",
    "    v_media = media(datos)\n",
    "    varianzalist = []\n",
    "    for i in datos:\n",
    "        i = pow((i - v_media), 2)\n",
    "        varianzalist.append(i)\n",
    "\n",
    "    v_varianza = sum(varianzalist) / len(varianzalist)\n",
    "    return v_varianza\n",
    "\n",
    "#Obtener la desviacion Estandar\n",
    "def desviacionEstandar(datos):\n",
    "    desviacion = sqrt(varianza(datos))\n",
    "    return desviacion"
   ]
  },
  {
   "cell_type": "code",
   "execution_count": 29,
   "metadata": {
    "collapsed": false
   },
   "outputs": [
    {
     "data": {
      "text/plain": [
       "5.5"
      ]
     },
     "execution_count": 29,
     "metadata": {},
     "output_type": "execute_result"
    }
   ],
   "source": [
    "media([3, 4, 4, 5, 6, 6, 7, 9])"
   ]
  },
  {
   "cell_type": "code",
   "execution_count": 28,
   "metadata": {
    "collapsed": false
   },
   "outputs": [
    {
     "data": {
      "text/plain": [
       "3.25"
      ]
     },
     "execution_count": 28,
     "metadata": {},
     "output_type": "execute_result"
    }
   ],
   "source": [
    "varianza([3, 4, 4, 5, 6, 6, 7, 9])"
   ]
  },
  {
   "cell_type": "code",
   "execution_count": 27,
   "metadata": {
    "collapsed": false
   },
   "outputs": [
    {
     "data": {
      "text/plain": [
       "1.8027756377319946"
      ]
     },
     "execution_count": 27,
     "metadata": {},
     "output_type": "execute_result"
    }
   ],
   "source": [
    "desviacionEstandar([3, 4, 4, 5, 6, 6, 7, 9])"
   ]
  },
  {
   "cell_type": "code",
   "execution_count": 25,
   "metadata": {
    "collapsed": false
   },
   "outputs": [
    {
     "name": "stdout",
     "output_type": "stream",
     "text": [
      "La media de los datos ingresados es 5.5.\n",
      "La varianza de los datos ingresados es 3.25.\n",
      "La desviacion estandar de los datos ingresados es 1.8027756377319946.\n"
     ]
    }
   ],
   "source": [
    "print(\"La media de los datos ingresados es {}.\".format(media([3, 4, 4, 5, 6, 6, 7, 9])))\n",
    "print(\"La varianza de los datos ingresados es {}.\".format(varianza([3, 4, 4, 5, 6, 6, 7, 9])))\n",
    "print(\"La desviacion estandar de los datos ingresados es {}.\".format(desviacionEstandar([3, 4, 4, 5, 6, 6, 7, 9])))"
   ]
  },
  {
   "cell_type": "code",
   "execution_count": null,
   "metadata": {
    "collapsed": true
   },
   "outputs": [],
   "source": []
  }
 ],
 "metadata": {
  "kernelspec": {
   "display_name": "Python 3",
   "language": "python",
   "name": "python3"
  },
  "language_info": {
   "codemirror_mode": {
    "name": "ipython",
    "version": 3
   },
   "file_extension": ".py",
   "mimetype": "text/x-python",
   "name": "python",
   "nbconvert_exporter": "python",
   "pygments_lexer": "ipython3",
   "version": "3.6.0"
  }
 },
 "nbformat": 4,
 "nbformat_minor": 2
}
