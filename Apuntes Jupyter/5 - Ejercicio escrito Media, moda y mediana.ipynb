{
 "cells": [
  {
   "cell_type": "markdown",
   "metadata": {},
   "source": [
    "# Intro To Machine Learning"
   ]
  },
  {
   "cell_type": "markdown",
   "metadata": {},
   "source": [
    "![regresion-lineal](regresion-lineal.gif )"
   ]
  },
  {
   "cell_type": "markdown",
   "metadata": {},
   "source": [
    "Éste es el ejercicio que te ayudará a repasar los conceptos básicos que hemos visto de Probabilidad y Estadística:\n",
    "\n",
    "*Encontrar la Media de la siguiente serie de números:*\n",
    "\n",
    "**1525, 257, 378, 9543, 7854, 152**\n",
    "\n",
    "*Encontrar la Moda de la siguiente serie de números:*\n",
    "\n",
    "**9, 5, 9, 4, 3, 6, 7, 1, 2, 3, 9, 1, 2**\n",
    "\n",
    "*Encontrar la Mediana en la siguiente serie de datos, recuerda primero ordenar los números de menor a mayor:*\n",
    "\n",
    "**9, 5, 9, 4, 3, 6, 7, 1, 2, 3, 9, 1, 2**"
   ]
  },
  {
   "cell_type": "markdown",
   "metadata": {},
   "source": [
    "![ejercicio-escrito](ejercicio-escrito.jpg)"
   ]
  },
  {
   "cell_type": "code",
   "execution_count": 1,
   "metadata": {
    "collapsed": true
   },
   "outputs": [],
   "source": [
    "#Obtener Media\n",
    "def promedio(datos):\n",
    "    sumatoria = sum(datos)\n",
    "    n = len(datos)\n",
    "    result = sumatoria / n\n",
    "    return result"
   ]
  },
  {
   "cell_type": "code",
   "execution_count": 13,
   "metadata": {
    "collapsed": true
   },
   "outputs": [],
   "source": [
    "#Obtener moda\n",
    "def moda(datos):\n",
    "    #Valores a tomar en cuenta\n",
    "    resultados = []\n",
    "    repeticiones = 0\n",
    "    datos.sort()\n",
    "    print(\"Datos ordenados {}\".format(datos))\n",
    "    #Contar los valores y obtener los mas repetidos\n",
    "    for i in datos:\n",
    "        apariciones = datos.count(i)\n",
    "        if apariciones >= repeticiones:\n",
    "            if apariciones == repeticiones and resultados.count(i) == 0:\n",
    "                resultados.append(i)\n",
    "            elif resultados.count(i) == 0:\n",
    "                resultados = [i]\n",
    "            repeticiones = datos.count(i)\n",
    "    return resultados"
   ]
  },
  {
   "cell_type": "code",
   "execution_count": 14,
   "metadata": {
    "collapsed": true
   },
   "outputs": [],
   "source": [
    "#Obtener mediana\n",
    "def mediana(datos):\n",
    "    mediana = 0\n",
    "    n = len(datos) \n",
    "    datos.sort() #Ordena la lista de menor a mayor\n",
    "    if n % 2 == 0: # si es par la formula es: Me = X(n / 2 ) + X((n / 2) + 1)\n",
    "        mediana = (datos[int((n / 2) + 1) - 1] + datos[int( n / 2)] - 1) / 2\n",
    "    else: # Si es impar la formula es: Me = X((n + 1) / 2)\n",
    "        mediana = datos[int((n + 1) / 2) - 1]\n",
    "    return mediana"
   ]
  },
  {
   "cell_type": "code",
   "execution_count": 15,
   "metadata": {
    "collapsed": false
   },
   "outputs": [
    {
     "name": "stdout",
     "output_type": "stream",
     "text": [
      "La media es 3284.8333333333335\n",
      "Datos ordenados [1, 1, 2, 2, 3, 3, 4, 5, 6, 7, 9, 9, 9]\n",
      "La moda es [9]\n",
      "La mediana es 4\n"
     ]
    }
   ],
   "source": [
    "print(\"La media es {}\".format(promedio([1525, 257, 378, 9543, 7854, 152])))\n",
    "print(\"La moda es {}\".format(moda([9, 5, 9, 4, 3, 6, 7, 1, 2, 3, 9, 1, 2])))\n",
    "print(\"La mediana es {}\".format(mediana([9, 5, 9, 4, 3, 6, 7, 1, 2, 3, 9, 1, 2])))"
   ]
  },
  {
   "cell_type": "markdown",
   "metadata": {},
   "source": [
    "## Con pandas"
   ]
  },
  {
   "cell_type": "code",
   "execution_count": 16,
   "metadata": {
    "collapsed": true
   },
   "outputs": [],
   "source": [
    "import pandas as pd"
   ]
  },
  {
   "cell_type": "code",
   "execution_count": 28,
   "metadata": {
    "collapsed": true
   },
   "outputs": [],
   "source": [
    "#representa esto [1525, 257, 378, 9543, 7854, 152]\n",
    "dataMedia = pd.read_csv('listaMedia.csv', index_col='#')"
   ]
  },
  {
   "cell_type": "code",
   "execution_count": 29,
   "metadata": {
    "collapsed": false
   },
   "outputs": [
    {
     "data": {
      "text/html": [
       "<div>\n",
       "<table border=\"1\" class=\"dataframe\">\n",
       "  <thead>\n",
       "    <tr style=\"text-align: right;\">\n",
       "      <th></th>\n",
       "      <th>Number</th>\n",
       "    </tr>\n",
       "    <tr>\n",
       "      <th>#</th>\n",
       "      <th></th>\n",
       "    </tr>\n",
       "  </thead>\n",
       "  <tbody>\n",
       "    <tr>\n",
       "      <th>1</th>\n",
       "      <td>1525</td>\n",
       "    </tr>\n",
       "    <tr>\n",
       "      <th>2</th>\n",
       "      <td>257</td>\n",
       "    </tr>\n",
       "    <tr>\n",
       "      <th>3</th>\n",
       "      <td>378</td>\n",
       "    </tr>\n",
       "    <tr>\n",
       "      <th>4</th>\n",
       "      <td>9543</td>\n",
       "    </tr>\n",
       "    <tr>\n",
       "      <th>5</th>\n",
       "      <td>7854</td>\n",
       "    </tr>\n",
       "  </tbody>\n",
       "</table>\n",
       "</div>"
      ],
      "text/plain": [
       "   Number\n",
       "#        \n",
       "1    1525\n",
       "2     257\n",
       "3     378\n",
       "4    9543\n",
       "5    7854"
      ]
     },
     "execution_count": 29,
     "metadata": {},
     "output_type": "execute_result"
    }
   ],
   "source": [
    "dataMedia.head()"
   ]
  },
  {
   "cell_type": "code",
   "execution_count": 30,
   "metadata": {
    "collapsed": false
   },
   "outputs": [
    {
     "data": {
      "text/plain": [
       "(6, 1)"
      ]
     },
     "execution_count": 30,
     "metadata": {},
     "output_type": "execute_result"
    }
   ],
   "source": [
    "dataMedia.shape"
   ]
  },
  {
   "cell_type": "code",
   "execution_count": 31,
   "metadata": {
    "collapsed": false
   },
   "outputs": [
    {
     "data": {
      "text/plain": [
       "#\n",
       "1    1525\n",
       "2     257\n",
       "3     378\n",
       "4    9543\n",
       "5    7854\n",
       "6     152\n",
       "Name: Number, dtype: int64"
      ]
     },
     "execution_count": 31,
     "metadata": {},
     "output_type": "execute_result"
    }
   ],
   "source": [
    "dataMedia['Number']"
   ]
  },
  {
   "cell_type": "code",
   "execution_count": 32,
   "metadata": {
    "collapsed": false
   },
   "outputs": [
    {
     "name": "stdout",
     "output_type": "stream",
     "text": [
      "\n",
      "Los datos ingresados son:\n",
      "#\n",
      "1    1525\n",
      "2     257\n",
      "3     378\n",
      "4    9543\n",
      "5    7854\n",
      "6     152\n",
      "Name: Number, dtype: int64\n",
      "La media obtenida es 3284.8333333333335\n"
     ]
    }
   ],
   "source": [
    "print(\"\"\"\n",
    "Los datos ingresados son:\n",
    "{}\n",
    "La media obtenida es {}\"\"\".format(dataMedia['Number'], dataMedia['Number'].mean())) #hallando la media con el metodo mean()"
   ]
  },
  {
   "cell_type": "code",
   "execution_count": 33,
   "metadata": {
    "collapsed": true
   },
   "outputs": [],
   "source": [
    "#representa esto [9, 5, 9, 4, 3, 6, 7, 1, 2, 3, 9, 1, 2]\n",
    "dataMoMe = pd.read_csv('listaModaMediana.csv', index_col='#')"
   ]
  },
  {
   "cell_type": "code",
   "execution_count": 34,
   "metadata": {
    "collapsed": false
   },
   "outputs": [
    {
     "data": {
      "text/html": [
       "<div>\n",
       "<table border=\"1\" class=\"dataframe\">\n",
       "  <thead>\n",
       "    <tr style=\"text-align: right;\">\n",
       "      <th></th>\n",
       "      <th>Number</th>\n",
       "    </tr>\n",
       "    <tr>\n",
       "      <th>#</th>\n",
       "      <th></th>\n",
       "    </tr>\n",
       "  </thead>\n",
       "  <tbody>\n",
       "    <tr>\n",
       "      <th>1</th>\n",
       "      <td>9</td>\n",
       "    </tr>\n",
       "    <tr>\n",
       "      <th>2</th>\n",
       "      <td>5</td>\n",
       "    </tr>\n",
       "    <tr>\n",
       "      <th>3</th>\n",
       "      <td>9</td>\n",
       "    </tr>\n",
       "    <tr>\n",
       "      <th>4</th>\n",
       "      <td>4</td>\n",
       "    </tr>\n",
       "    <tr>\n",
       "      <th>5</th>\n",
       "      <td>3</td>\n",
       "    </tr>\n",
       "  </tbody>\n",
       "</table>\n",
       "</div>"
      ],
      "text/plain": [
       "   Number\n",
       "#        \n",
       "1       9\n",
       "2       5\n",
       "3       9\n",
       "4       4\n",
       "5       3"
      ]
     },
     "execution_count": 34,
     "metadata": {},
     "output_type": "execute_result"
    }
   ],
   "source": [
    "dataMoMe.head()"
   ]
  },
  {
   "cell_type": "code",
   "execution_count": 37,
   "metadata": {
    "collapsed": false
   },
   "outputs": [
    {
     "data": {
      "text/plain": [
       "(13, 1)"
      ]
     },
     "execution_count": 37,
     "metadata": {},
     "output_type": "execute_result"
    }
   ],
   "source": [
    "dataMoMe.shape #filas por columnas"
   ]
  },
  {
   "cell_type": "code",
   "execution_count": 38,
   "metadata": {
    "collapsed": false
   },
   "outputs": [
    {
     "data": {
      "text/plain": [
       "#\n",
       "1     9\n",
       "2     5\n",
       "3     9\n",
       "4     4\n",
       "5     3\n",
       "6     6\n",
       "7     7\n",
       "8     1\n",
       "9     2\n",
       "10    3\n",
       "11    9\n",
       "12    1\n",
       "13    2\n",
       "Name: Number, dtype: int64"
      ]
     },
     "execution_count": 38,
     "metadata": {},
     "output_type": "execute_result"
    }
   ],
   "source": [
    "dataMoMe['Number']"
   ]
  },
  {
   "cell_type": "code",
   "execution_count": 56,
   "metadata": {
    "collapsed": false
   },
   "outputs": [
    {
     "name": "stdout",
     "output_type": "stream",
     "text": [
      "\n",
      "Los datos ingresados son:\n",
      "#\n",
      "8     1\n",
      "12    1\n",
      "9     2\n",
      "13    2\n",
      "5     3\n",
      "10    3\n",
      "4     4\n",
      "2     5\n",
      "6     6\n",
      "7     7\n",
      "1     9\n",
      "3     9\n",
      "11    9\n",
      "Name: Number, dtype: int64\n",
      "La moda obtenida es \n",
      "0    9\n",
      "dtype: int64\n"
     ]
    }
   ],
   "source": [
    "print(\"\"\"\n",
    "Los datos ingresados son:\n",
    "{}\n",
    "La moda obtenida es \n",
    "{}\"\"\".format(dataMoMe['Number'].sort_values(), dataMoMe['Number'].mode()))\n",
    " #Hallando la moda"
   ]
  },
  {
   "cell_type": "code",
   "execution_count": 54,
   "metadata": {
    "collapsed": false
   },
   "outputs": [
    {
     "name": "stdout",
     "output_type": "stream",
     "text": [
      "La mediana es \n",
      "Number    4.0\n",
      "dtype: float64\n"
     ]
    }
   ],
   "source": [
    "print(\"\"\"La mediana es \n",
    "{}\"\"\".format(dataMoMe.median())) #Hallando la mediana"
   ]
  },
  {
   "cell_type": "code",
   "execution_count": null,
   "metadata": {
    "collapsed": true
   },
   "outputs": [],
   "source": []
  }
 ],
 "metadata": {
  "kernelspec": {
   "display_name": "Python 3",
   "language": "python",
   "name": "python3"
  },
  "language_info": {
   "codemirror_mode": {
    "name": "ipython",
    "version": 3
   },
   "file_extension": ".py",
   "mimetype": "text/x-python",
   "name": "python",
   "nbconvert_exporter": "python",
   "pygments_lexer": "ipython3",
   "version": "3.6.0"
  }
 },
 "nbformat": 4,
 "nbformat_minor": 2
}
