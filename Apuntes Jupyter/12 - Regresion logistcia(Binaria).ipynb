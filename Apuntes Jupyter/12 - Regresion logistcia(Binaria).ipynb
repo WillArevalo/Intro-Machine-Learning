{
 "cells": [
  {
   "cell_type": "markdown",
   "metadata": {
    "collapsed": true
   },
   "source": [
    "# Intro To Machine Learning"
   ]
  },
  {
   "cell_type": "markdown",
   "metadata": {},
   "source": [
    "![regresion-lineal](regresion-lineal.gif )"
   ]
  },
  {
   "cell_type": "markdown",
   "metadata": {},
   "source": [
    "## Regresión Logística"
   ]
  },
  {
   "cell_type": "markdown",
   "metadata": {},
   "source": [
    "La Regresión Logística es un algoritmo que nos sirve para predecir la probabilidad de que un evento pase o no. También es conocida como Regresión Binaria ya que solamente puede predecir entre 0 o 1.\n",
    "\n",
    "La Regresión Logística la utilizamos para clasificar y esta es la formula que lo explica:\n",
    "\n",
    "![regresionLogistica](regresionLogistica.png)\n",
    "\n",
    "Donde:\n",
    "0 = Clase negativa\n",
    "1 = Clase positiva\n",
    "\n",
    "Todos los elementos que cumplen con los patrones que sigue el algoritmo que estamos programando pertenecen a la “clase positiva”.\n"
   ]
  },
  {
   "cell_type": "markdown",
   "metadata": {},
   "source": [
    "En conclusión: regresión logística es la forma de predecir el resultado de una variable utilizando una serie de características establecidas, si se cumple estas características se denomina “clase positiva”, en caso contrario se denomina “clase negativa”, también podemos llamarlo regresión binaria.\n",
    "\n",
    "*Como ejemplo tenemos las pruebas de calidad en las fabricas de producción masiva, donde el articulo debe cumplir una serie de requisitos antes de salir a la venta *"
   ]
  },
  {
   "cell_type": "markdown",
   "metadata": {
    "collapsed": true
   },
   "source": [
    "![regresionlog](regresionlog.svg)"
   ]
  },
  {
   "cell_type": "markdown",
   "metadata": {},
   "source": [
    "Solo abarca valores de 1 y 0 por eso es llamada binaria."
   ]
  },
  {
   "cell_type": "code",
   "execution_count": null,
   "metadata": {
    "collapsed": true
   },
   "outputs": [],
   "source": []
  }
 ],
 "metadata": {
  "kernelspec": {
   "display_name": "Python 3",
   "language": "python",
   "name": "python3"
  },
  "language_info": {
   "codemirror_mode": {
    "name": "ipython",
    "version": 3
   },
   "file_extension": ".py",
   "mimetype": "text/x-python",
   "name": "python",
   "nbconvert_exporter": "python",
   "pygments_lexer": "ipython3",
   "version": "3.6.0"
  }
 },
 "nbformat": 4,
 "nbformat_minor": 2
}
