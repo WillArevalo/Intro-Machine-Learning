{
 "cells": [
  {
   "cell_type": "markdown",
   "metadata": {},
   "source": [
    "# Intro To Machine Learning"
   ]
  },
  {
   "cell_type": "markdown",
   "metadata": {},
   "source": [
    "![algoritmMachineLearn](algoritmMachineLearn.jpg)"
   ]
  },
  {
   "cell_type": "markdown",
   "metadata": {},
   "source": [
    "## Secuencia de Fibonacci"
   ]
  },
  {
   "cell_type": "markdown",
   "metadata": {},
   "source": [
    "La secuencia de Fibonacci es la siguiente sucesión infinita de números naturales:\n",
    "\n",
    "0, 1, 1, 2, 3, 5, 8, 13, 21, 34, 55, 89, 144, 233, 377, 610, 987, 1597…\n",
    "\n",
    "La secuencia comienza con los números 0 y 1, y a partir de estos 2 números cada número es la suma de los 2 anteriores.\n",
    "\n",
    "Esta secuencia tiene numerosas aplicaciones en ciencias de la computación, matemática y teoría de juegos."
   ]
  },
  {
   "cell_type": "markdown",
   "metadata": {},
   "source": [
    "![Fibonacci_spiral](Fibonacci_spiral.png)"
   ]
  },
  {
   "cell_type": "markdown",
   "metadata": {},
   "source": [
    "**La espiral de Fibonacci** es una aproximación de la espiral áurea generada dibujando arcos circulares conectando las esquinas opuestas de los cuadrados ajustados a los valores de la sucesión; adosando sucesivamente cuadrados de lado 0, 1, 1, 2, 3, 5, 8, 13, 21 y 34."
   ]
  },
  {
   "cell_type": "code",
   "execution_count": null,
   "metadata": {
    "collapsed": false
   },
   "outputs": [],
   "source": [
    "\n"
   ]
  },
  {
   "cell_type": "code",
   "execution_count": 1,
   "metadata": {
    "collapsed": true
   },
   "outputs": [],
   "source": [
    "#Codigo que solo funciona en .py dibuja la espiral\n",
    "\n",
    "from turtle import *      # Importar las funciones de gráficas \n",
    "                          # de tortuga.\n",
    "\n",
    "fi = 1.618033988749895    # Definir φ (sección de oro).\n",
    "\n",
    "def espiral(n):\n",
    "    radio = 10            # Definir radio inicial del primer \n",
    "                          # arco.    \n",
    "    for i in range(n):    # Repetir n veces.\n",
    "        circle(radio, 90) # Dibujar el arco de un cierto radio \n",
    "                          # y 90 grados.\n",
    "        radio *= fi       # Aumentar radio por el factor φ.\n",
    "\n",
    "hideturtle()       # Esconder la tortuga.\n",
    "color('SteelBlue') # Establecer color de la pluma: azul \n",
    "                   # metálico.\n",
    "pensize(20)        # Establecer tamaño de la pluma: 20 pixeles.\n",
    "speed('fastest')   # Establecer velocidad de tortuga: máxima.\n",
    "setheading(270)    # Apuntar la tortuga hacia el sur.\n",
    "espiral(8)         # Dibujar espiral de orden 8.\n",
    "done()             # Evitar que la ventana se cierre \n",
    "                   # inmediatamente."
   ]
  },
  {
   "cell_type": "code",
   "execution_count": null,
   "metadata": {
    "collapsed": true
   },
   "outputs": [],
   "source": [
    "#Codigo que solo funciona en .py dibuja la espiral y los cuadrados\n",
    "from turtle import *\n",
    "\n",
    "fi = 1.618033988749895\n",
    "\n",
    "def cuadro(longitud):\n",
    "    \"\"\"Dibuja un cuadrado relleno cuyos lados son de tamaño\n",
    "       'longitud'.\n",
    "    \"\"\"\n",
    "    begin_fill()\n",
    "    for i in range(4):\n",
    "        fd(longitud)\n",
    "        lt(90)\n",
    "    end_fill()\n",
    "\n",
    "def rectangulo_dorado(n, longitud):\n",
    "    \"\"\"Dibuja un rectángulo dorado compuesto de 'n'\n",
    "       cuadrados. El primer cuadrado tiene sus lados de\n",
    "       tamaño 'longitud'.\n",
    "    \"\"\"\n",
    "    for i in range(n):\n",
    "        cuadro(longitud)\n",
    "\n",
    "        # Mover la tortuga a la esquina contraria y girarla\n",
    "        # 90 grados a la izquierda.\n",
    "        fd(longitud)\n",
    "        lt(90)\n",
    "        fd(longitud)\n",
    "\n",
    "        longitud *= fi\n",
    "\n",
    "def espiral_dorada(n, radio):\n",
    "    \"\"\"Dibuja una espiral dorada compuesta de 'n' arcos. El\n",
    "       primer arco tiene un radio de tamaño 'radio'.\n",
    "    \"\"\"\n",
    "    for i in range(n):\n",
    "        circle(radio, 90)\n",
    "        radio *= fi\n",
    "\n",
    "def espiral(n, radio):\n",
    "    \"\"\"Dibuja una espiral dorada de orden 'n' sobre el\n",
    "       rectángulo dorado que lo alberga.\n",
    "       El primer arco/cuadro tiene un radio/lado de tamaño\n",
    "       'radio'.\n",
    "    \"\"\"\n",
    "\n",
    "    color('White')\n",
    "    fillcolor('SteelBlue')\n",
    "    pensize(1)\n",
    "    rectangulo_dorado(n, radio)\n",
    "\n",
    "    # Regresa la tortuga al centro de la pantalla pero sin\n",
    "    # dibujar por su paso.\n",
    "    penup()\n",
    "    home()\n",
    "    pendown()\n",
    "\n",
    "    color('Gold')\n",
    "    pensize(4)\n",
    "    espiral_dorada(n, radio)\n",
    "\n",
    "hideturtle()\n",
    "speed('normal')\n",
    "espiral(11, 2)\n",
    "done()"
   ]
  }
 ],
 "metadata": {
  "kernelspec": {
   "display_name": "Python 3",
   "language": "python",
   "name": "python3"
  },
  "language_info": {
   "codemirror_mode": {
    "name": "ipython",
    "version": 3
   },
   "file_extension": ".py",
   "mimetype": "text/x-python",
   "name": "python",
   "nbconvert_exporter": "python",
   "pygments_lexer": "ipython3",
   "version": "3.6.0"
  }
 },
 "nbformat": 4,
 "nbformat_minor": 2
}
