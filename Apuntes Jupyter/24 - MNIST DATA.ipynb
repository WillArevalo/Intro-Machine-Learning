{
 "cells": [
  {
   "cell_type": "markdown",
   "metadata": {},
   "source": [
    "# Intro To Machine Learning"
   ]
  },
  {
   "cell_type": "markdown",
   "metadata": {},
   "source": [
    "![algoritmMachineLearn](algoritmMachineLearn.jpg)"
   ]
  },
  {
   "cell_type": "markdown",
   "metadata": {},
   "source": [
    "## MNIST DATA\n",
    "#### (database of handwritten digits)\n",
    "![mnist-digits](mnist-digits.png)"
   ]
  },
  {
   "cell_type": "markdown",
   "metadata": {},
   "source": [
    "TensorFlow nos deja definir una estructura muy simple que nos permitirá construir nuestro modelo basado en una \"Logistic Regression\". Veremos como analizar y manejar los datos del dataset public MNIST, compuesto por imágenes de dígitos escritos a mano."
   ]
  },
  {
   "cell_type": "markdown",
   "metadata": {},
   "source": [
    "_Instalamos tensorflow con el sgte comando_\n",
    "\n",
    "    !pip install tensorflow"
   ]
  },
  {
   "cell_type": "code",
   "execution_count": 1,
   "metadata": {
    "collapsed": false
   },
   "outputs": [
    {
     "data": {
      "text/plain": [
       "'1.3.0'"
      ]
     },
     "execution_count": 1,
     "metadata": {},
     "output_type": "execute_result"
    }
   ],
   "source": [
    "#Importamos TensorFlow como tf\n",
    "import tensorflow as tf\n",
    "tf.__version__"
   ]
  },
  {
   "cell_type": "code",
   "execution_count": 2,
   "metadata": {
    "collapsed": false
   },
   "outputs": [],
   "source": [
    "#Importamos el dataset MNIST desde tensorflow\n",
    "from tensorflow.examples.tutorials.mnist import input_data"
   ]
  },
  {
   "cell_type": "code",
   "execution_count": 3,
   "metadata": {
    "collapsed": false
   },
   "outputs": [
    {
     "name": "stdout",
     "output_type": "stream",
     "text": [
      "Extracting MNIST_data\\train-images-idx3-ubyte.gz\n",
      "Extracting MNIST_data\\train-labels-idx1-ubyte.gz\n",
      "Extracting MNIST_data\\t10k-images-idx3-ubyte.gz\n",
      "Extracting MNIST_data\\t10k-labels-idx1-ubyte.gz\n"
     ]
    }
   ],
   "source": [
    "#Asignamos los datos del dataset a mnist \n",
    "#pasandole la carpeta donde los queremos almacenar \n",
    "# y el formato, one hot significa que estan vectorizados\n",
    "mnist = input_data.read_data_sets('MNIST_data', one_hot=True)"
   ]
  },
  {
   "cell_type": "code",
   "execution_count": 4,
   "metadata": {
    "collapsed": true
   },
   "outputs": [],
   "source": [
    "#Ya que se han descargado todos los datasets en bruto(raw)\n",
    "#Ahora los divideremos en los 3 datasets de train, testing y validacion\n",
    "#train\n",
    "train_dataset = mnist.train.images\n",
    "train_labels = mnist.train.labels\n",
    "#testing\n",
    "test_dataset = mnist.test.images\n",
    "test_labels = mnist.test.labels\n",
    "#Validacion\n",
    "validation_dataset = mnist.validation.images\n",
    "validation_labels = mnist.validation.labels"
   ]
  },
  {
   "cell_type": "code",
   "execution_count": 5,
   "metadata": {
    "collapsed": false
   },
   "outputs": [
    {
     "name": "stdout",
     "output_type": "stream",
     "text": [
      "Train dataset medidas (55000, 784)\n",
      "Train labels(etiquetas, donde va el resultado) medidas (55000, 10)\n",
      "\n",
      "Test dataset medidas (10000, 784)\n",
      "Test labels(etiquetas, donde va el resultado) medidas (10000, 10)\n",
      "\n",
      "Validation dataset medidas (5000, 784)\n",
      "Validation labels(etiquetas, donde va el resultado) medidas (5000, 10)\n"
     ]
    }
   ],
   "source": [
    "#Miramos los tamaños de los arreglos para \n",
    "#comprobar que se hallan insertado bien los datasets con el metodo shape\n",
    "print(\"\"\"Train dataset medidas {}\n",
    "Train labels(etiquetas, donde va el resultado) medidas {}\\n\"\"\".format(train_dataset.shape,train_labels.shape))\n",
    "print(\"\"\"Test dataset medidas {}\n",
    "Test labels(etiquetas, donde va el resultado) medidas {}\\n\"\"\".format(test_dataset.shape,test_labels.shape))\n",
    "print(\"\"\"Validation dataset medidas {}\n",
    "Validation labels(etiquetas, donde va el resultado) medidas {}\"\"\".format(validation_dataset.shape,validation_labels.shape))"
   ]
  },
  {
   "cell_type": "markdown",
   "metadata": {},
   "source": [
    "![MNIST-Matrix](MNIST-Matrix.png)"
   ]
  },
  {
   "cell_type": "code",
   "execution_count": 6,
   "metadata": {
    "collapsed": true
   },
   "outputs": [],
   "source": [
    "#Importamos una libreria para graficas para vizualizar el contenido\n",
    "import matplotlib.pyplot as pl\n",
    "# y decimos que genere la grafica dentro del notebook actual\n",
    "%matplotlib inline"
   ]
  },
  {
   "cell_type": "code",
   "execution_count": 23,
   "metadata": {
    "collapsed": false
   },
   "outputs": [],
   "source": [
    "#Seleccionamos una muestra al azar del set de entrenamiento\n",
    "sample = train_dataset[1]\n",
    "#ya que la imagen esta plana al estar en un vector \n",
    "#la redimensionamos para verla como imagen \n",
    "#sabemos que las dimensiones cada imagen es de 28x28 o de 784 en plano\n",
    "#asi que la redimensionamos de esa forma\n",
    "reshapesample = sample.reshape(28,28)\n"
   ]
  },
  {
   "cell_type": "code",
   "execution_count": 24,
   "metadata": {
    "collapsed": false
   },
   "outputs": [
    {
     "name": "stdout",
     "output_type": "stream",
     "text": [
      "En array:\n",
      "En la posicion 1 del set de entrenamiento tenemo un numero 3\n",
      "Su etiqueta(label) es:\t[ 0.  0.  0.  1.  0.  0.  0.  0.  0.  0.]\n",
      "Posiciones etiqueta es:\t[ 0,  1,  2,  3,  4,  5,  6,  7,  8,  9 ]\n",
      "Por lo tanto es un 3\n"
     ]
    },
    {
     "data": {
      "image/png": "[encoded data removed]",
      "text/plain": [
       "<matplotlib.figure.Figure at 0x5c852ecac8>"
      ]
     },
     "metadata": {},
     "output_type": "display_data"
    }
   ],
   "source": [
    "#La imprimimos\n",
    "\n",
    "pl.imshow(reshapesample)\n",
    "pl.show\n",
    "\n",
    "print(\"En array:\")\n",
    "print(\"En la posicion 1 del set de entrenamiento tenemo un numero 3\")\n",
    "print(\"Su etiqueta(label) es:\\t{}\".format(train_labels[1]))\n",
    "print(\"Posiciones etiqueta es:\\t[ 0,  1,  2,  3,  4,  5,  6,  7,  8,  9 ]\")\n",
    "print(\"Por lo tanto es un 3\")"
   ]
  },
  {
   "cell_type": "code",
   "execution_count": 9,
   "metadata": {
    "collapsed": false
   },
   "outputs": [
    {
     "name": "stdout",
     "output_type": "stream",
     "text": [
      "En la posicion 44 del set de entrenamiento tenemo un numero 9\n",
      "Su etiqueta(label) es:\t[ 0.  0.  0.  0.  0.  0.  0.  0.  0.  1.]\n",
      "Posiciones etiqueta es:\t[ 0,  1,  2,  3,  4,  5,  6,  7,  8,  9 ]\n",
      "Por lo tanto es un 9\n"
     ]
    },
    {
     "data": {
      "image/png": "[encoded data removed]",
      "text/plain": [
       "<matplotlib.figure.Figure at 0x5c84fc4860>"
      ]
     },
     "metadata": {},
     "output_type": "display_data"
    }
   ],
   "source": [
    "#Con otro numero\n",
    "sample2 = train_dataset[44]\n",
    "pl.imshow(sample2.reshape(28,28))\n",
    "pl.show\n",
    "\n",
    "print(\"En la posicion 44 del set de entrenamiento tenemo un numero 9\")\n",
    "print(\"Su etiqueta(label) es:\\t{}\".format(train_labels[44]))\n",
    "print(\"Posiciones etiqueta es:\\t[ 0,  1,  2,  3,  4,  5,  6,  7,  8,  9 ]\")\n",
    "print(\"Por lo tanto es un 9\")"
   ]
  },
  {
   "cell_type": "code",
   "execution_count": 22,
   "metadata": {
    "collapsed": false
   },
   "outputs": [
    {
     "name": "stdout",
     "output_type": "stream",
     "text": [
      "(2, 784)\n"
     ]
    },
    {
     "data": {
      "text/plain": [
       "<function matplotlib.pyplot.show>"
      ]
     },
     "execution_count": 22,
     "metadata": {},
     "output_type": "execute_result"
    },
    {
     "data": {
      "image/png": "[encoded data removed]",
      "text/plain": [
       "<matplotlib.figure.Figure at 0x5c850d90b8>"
      ]
     },
     "metadata": {},
     "output_type": "display_data"
    }
   ],
   "source": [
    "sample = train_dataset[53:55]\n",
    "print(sample.shape)\n",
    "reshapesample = sample.reshape(56,28)\n",
    "pl.imshow(reshapesample)\n",
    "pl.show"
   ]
  },
  {
   "cell_type": "markdown",
   "metadata": {},
   "source": [
    "### Ya que el anterior ejemplo no funciono me dirijo a aplicarlo de la pagina oficial\n"
   ]
  },
  {
   "cell_type": "markdown",
   "metadata": {},
   "source": [
    "![exerciseMNIST](exerciseMNIST.png)"
   ]
  },
  {
   "cell_type": "code",
   "execution_count": null,
   "metadata": {
    "collapsed": true
   },
   "outputs": [],
   "source": []
  }
 ],
 "metadata": {
  "kernelspec": {
   "display_name": "Python 3",
   "language": "python",
   "name": "python3"
  },
  "language_info": {
   "codemirror_mode": {
    "name": "ipython",
    "version": 3
   },
   "file_extension": ".py",
   "mimetype": "text/x-python",
   "name": "python",
   "nbconvert_exporter": "python",
   "pygments_lexer": "ipython3",
   "version": "3.6.0"
  }
 },
 "nbformat": 4,
 "nbformat_minor": 2
}
